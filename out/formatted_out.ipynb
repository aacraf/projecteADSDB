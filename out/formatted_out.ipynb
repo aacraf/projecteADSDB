{
 "cells": [
  {
   "cell_type": "code",
   "execution_count": 1,
   "id": "4b275b1a",
   "metadata": {
    "colab": {
     "base_uri": "https://localhost:8080/"
    },
    "execution": {
     "iopub.execute_input": "2022-10-24T22:32:26.569998Z",
     "iopub.status.busy": "2022-10-24T22:32:26.569283Z",
     "iopub.status.idle": "2022-10-24T22:32:28.580157Z",
     "shell.execute_reply": "2022-10-24T22:32:28.581048Z"
    },
    "executionInfo": {
     "elapsed": 8733,
     "status": "ok",
     "timestamp": 1666446311032,
     "user": {
      "displayName": "Achraf Hmimou",
      "userId": "16128354855213705162"
     },
     "user_tz": -120
    },
    "id": "k1fSKvgmNROr",
    "outputId": "054a6631-394e-42f4-fd6a-87e2aa04919a",
    "papermill": {
     "duration": 2.037649,
     "end_time": "2022-10-24T22:32:28.581350",
     "exception": false,
     "start_time": "2022-10-24T22:32:26.543701",
     "status": "completed"
    },
    "tags": []
   },
   "outputs": [
    {
     "name": "stdout",
     "output_type": "stream",
     "text": [
      "Requirement already satisfied: duckdb in /Library/Frameworks/Python.framework/Versions/3.9/lib/python3.9/site-packages (0.5.1)\r\n"
     ]
    },
    {
     "name": "stdout",
     "output_type": "stream",
     "text": [
      "Requirement already satisfied: numpy>=1.14 in /Library/Frameworks/Python.framework/Versions/3.9/lib/python3.9/site-packages (from duckdb) (1.20.2)\r\n"
     ]
    },
    {
     "name": "stdout",
     "output_type": "stream",
     "text": [
      "\u001b[33mWARNING: You are using pip version 21.1.1; however, version 22.3 is available.\r\n",
      "You should consider upgrading via the '/Library/Frameworks/Python.framework/Versions/3.9/bin/python3 -m pip install --upgrade pip' command.\u001b[0m\r\n"
     ]
    },
    {
     "name": "stdout",
     "output_type": "stream",
     "text": [
      "Note: you may need to restart the kernel to use updated packages.\n"
     ]
    }
   ],
   "source": [
    "%pip install duckdb\n",
    "\n",
    "import duckdb\n",
    "import os\n",
    "import glob\n",
    "import pandas as pd\n",
    "import numpy as np \n",
    "\n"
   ]
  },
  {
   "cell_type": "code",
   "execution_count": 2,
   "id": "69bff6d1",
   "metadata": {
    "colab": {
     "base_uri": "https://localhost:8080/"
    },
    "execution": {
     "iopub.execute_input": "2022-10-24T22:32:28.601166Z",
     "iopub.status.busy": "2022-10-24T22:32:28.600271Z",
     "iopub.status.idle": "2022-10-24T22:32:28.602121Z",
     "shell.execute_reply": "2022-10-24T22:32:28.602648Z"
    },
    "executionInfo": {
     "elapsed": 33491,
     "status": "ok",
     "timestamp": 1666446344509,
     "user": {
      "displayName": "Achraf Hmimou",
      "userId": "16128354855213705162"
     },
     "user_tz": -120
    },
    "id": "upl7eddS4-5j",
    "outputId": "1e2fc673-2992-4e0a-9d5a-26a3861ef18d",
    "papermill": {
     "duration": 0.013465,
     "end_time": "2022-10-24T22:32:28.602956",
     "exception": false,
     "start_time": "2022-10-24T22:32:28.589491",
     "status": "completed"
    },
    "tags": []
   },
   "outputs": [],
   "source": [
    "#from google.colab import drive\n",
    "#drive.mount('/content/drive')"
   ]
  },
  {
   "cell_type": "markdown",
   "id": "2e52c903",
   "metadata": {
    "id": "EEN5TQytvxwi",
    "papermill": {
     "duration": 0.007028,
     "end_time": "2022-10-24T22:32:28.617204",
     "exception": false,
     "start_time": "2022-10-24T22:32:28.610176",
     "status": "completed"
    },
    "tags": []
   },
   "source": [
    "# Relational model\n",
    "For this project we have chosen the DuckDB database"
   ]
  },
  {
   "cell_type": "code",
   "execution_count": 3,
   "id": "7e8d06a9",
   "metadata": {
    "execution": {
     "iopub.execute_input": "2022-10-24T22:32:28.642680Z",
     "iopub.status.busy": "2022-10-24T22:32:28.641979Z",
     "iopub.status.idle": "2022-10-24T22:32:28.643662Z",
     "shell.execute_reply": "2022-10-24T22:32:28.644320Z"
    },
    "executionInfo": {
     "elapsed": 15,
     "status": "ok",
     "timestamp": 1666446357283,
     "user": {
      "displayName": "Achraf Hmimou",
      "userId": "16128354855213705162"
     },
     "user_tz": -120
    },
    "id": "7lk0fA-rNk6U",
    "papermill": {
     "duration": 0.019859,
     "end_time": "2022-10-24T22:32:28.644493",
     "exception": false,
     "start_time": "2022-10-24T22:32:28.624634",
     "status": "completed"
    },
    "tags": []
   },
   "outputs": [],
   "source": [
    "#con = duckdb.connect(database='/content/drive/MyDrive/projecteADSDB/formatted/formatted.duckdb', read_only=False)\n",
    "con = duckdb.connect(database='./formatted/formatted.duckdb', read_only=False)"
   ]
  },
  {
   "cell_type": "markdown",
   "id": "a21f9116",
   "metadata": {
    "id": "loh0sDLzwtfE",
    "papermill": {
     "duration": 0.006814,
     "end_time": "2022-10-24T22:32:28.658731",
     "exception": false,
     "start_time": "2022-10-24T22:32:28.651917",
     "status": "completed"
    },
    "tags": []
   },
   "source": [
    "## Table Creation\n",
    "we create one table for each data source and version (timestamp)"
   ]
  },
  {
   "cell_type": "code",
   "execution_count": 4,
   "id": "b8a546f0",
   "metadata": {
    "execution": {
     "iopub.execute_input": "2022-10-24T22:32:28.679015Z",
     "iopub.status.busy": "2022-10-24T22:32:28.678394Z",
     "iopub.status.idle": "2022-10-24T22:32:28.781174Z",
     "shell.execute_reply": "2022-10-24T22:32:28.781615Z"
    },
    "executionInfo": {
     "elapsed": 2545,
     "status": "ok",
     "timestamp": 1666446390411,
     "user": {
      "displayName": "Achraf Hmimou",
      "userId": "16128354855213705162"
     },
     "user_tz": -120
    },
    "id": "LwfIIxGk5eac",
    "papermill": {
     "duration": 0.115465,
     "end_time": "2022-10-24T22:32:28.781823",
     "exception": false,
     "start_time": "2022-10-24T22:32:28.666358",
     "status": "completed"
    },
    "tags": []
   },
   "outputs": [],
   "source": [
    "#dir = '/content/drive/MyDrive/projecteADSDB/landing/persistent/'\n",
    "dir = 'landing/persistent/'\n",
    "\n",
    "#os.chdir(dir)\n",
    "#os.chdir(dir)\n",
    "\n",
    "datasources = [datasource for datasource in os.listdir(dir)]\n",
    "\n",
    "# dictionary that contains all the table dataframes\n",
    "dictdf = {}\n",
    "\n",
    "for ds in datasources:\n",
    "  files = [f for f in os.listdir(dir+'/'+ds)]\n",
    "  for f in files:\n",
    "    # omit '.csv'\n",
    "    fname = f[:-4]\n",
    "    con.execute(f'DROP TABLE IF EXISTS {fname}')\n",
    "    con.execute(f\"CREATE TABLE IF NOT EXISTS {fname} AS SELECT * FROM read_csv_auto('{dir}{ds}/{f}');\")\n",
    "    dictdf[fname] = con.execute(f\"SELECT * FROM {fname}\").df()\n"
   ]
  },
  {
   "cell_type": "markdown",
   "id": "d9bdab65",
   "metadata": {
    "id": "pB3b09Nsyn9k",
    "papermill": {
     "duration": 0.007107,
     "end_time": "2022-10-24T22:32:28.796022",
     "exception": false,
     "start_time": "2022-10-24T22:32:28.788915",
     "status": "completed"
    },
    "tags": []
   },
   "source": [
    "## Show table contents"
   ]
  },
  {
   "cell_type": "code",
   "execution_count": 5,
   "id": "1dfc6505",
   "metadata": {
    "colab": {
     "base_uri": "https://localhost:8080/"
    },
    "execution": {
     "iopub.execute_input": "2022-10-24T22:32:28.815065Z",
     "iopub.status.busy": "2022-10-24T22:32:28.814442Z",
     "iopub.status.idle": "2022-10-24T22:32:28.871503Z",
     "shell.execute_reply": "2022-10-24T22:32:28.872051Z"
    },
    "executionInfo": {
     "elapsed": 293,
     "status": "ok",
     "timestamp": 1666446395528,
     "user": {
      "displayName": "Achraf Hmimou",
      "userId": "16128354855213705162"
     },
     "user_tz": -120
    },
    "id": "n7Yz3GQcw4zu",
    "outputId": "17571fcd-e285-42c2-d338-4ef3fc05d8bc",
    "papermill": {
     "duration": 0.069122,
     "end_time": "2022-10-24T22:32:28.872369",
     "exception": false,
     "start_time": "2022-10-24T22:32:28.803247",
     "status": "completed"
    },
    "tags": []
   },
   "outputs": [
    {
     "name": "stdout",
     "output_type": "stream",
     "text": [
      "\n",
      "---------------------------------\n",
      "Country_Level_Data$1666650745\n",
      "\n",
      "---------------------------------\n",
      "   year       city  iso         country   region olympic_type  population  \\\n",
      "0  1992  Barcelona  ALB         Albania   Europe       summer   3247039.0   \n",
      "1  1992  Barcelona  DZA         Algeria   Africa       summer  27181094.0   \n",
      "2  1992  Barcelona  ASM  American Samoa  Oceania       summer     49593.0   \n",
      "3  1992  Barcelona  AND         Andorra   Europe       summer     58888.0   \n",
      "4  1992  Barcelona  AGO          Angola   Africa       summer  12968345.0   \n",
      "\n",
      "   GDP_constant_2010_USD  land_area_km_sq notes  population_%     GDP_%  \\\n",
      "0           4.183027e+09            27400   NaN      0.000614  0.000110   \n",
      "1           9.252182e+10          2381740   NaN      0.005142  0.002430   \n",
      "2           3.762957e+08              200   NaN      0.000009  0.000010   \n",
      "3           2.018601e+09              470   NaN      0.000011  0.000053   \n",
      "4           2.945149e+10          1246700   NaN      0.002453  0.000773   \n",
      "\n",
      "   land_area_%  \n",
      "0     0.000248  \n",
      "1     0.021531  \n",
      "2     0.000002  \n",
      "3     0.000004  \n",
      "4     0.011270  \n",
      "              year    population  GDP_constant_2010_USD  land_area_km_sq  \\\n",
      "count  2008.000000  2.008000e+03           2.008000e+03     2.008000e+03   \n",
      "mean   2004.669323  4.011579e+07           4.070040e+11     7.845282e+05   \n",
      "std       8.188013  1.489839e+08           1.414305e+12     2.122525e+06   \n",
      "min    1992.000000  1.003300e+04           3.423404e+07     2.000000e+00   \n",
      "25%    1998.000000  2.005134e+06           5.754965e+09     2.318000e+04   \n",
      "50%    2004.000000  7.366111e+06           2.839460e+10     1.074000e+05   \n",
      "75%    2012.000000  2.486416e+07           2.363612e+11     5.002100e+05   \n",
      "max    2018.000000  1.390000e+09           1.730950e+13     1.638134e+07   \n",
      "\n",
      "       population_%         GDP_%   land_area_%  \n",
      "count   2008.000000  2.008000e+03  2.008000e+03  \n",
      "mean       0.007470  7.470120e-03  7.470120e-03  \n",
      "std        0.029152  2.570196e-02  2.146990e-02  \n",
      "min        0.000001  4.880320e-07  1.515600e-08  \n",
      "25%        0.000317  1.036215e-04  1.975023e-04  \n",
      "50%        0.001299  5.466104e-04  9.927425e-04  \n",
      "75%        0.004257  4.001993e-03  4.423856e-03  \n",
      "max        0.413799  2.773402e-01  2.075271e-01  \n",
      "\n",
      "---------------------------------\n",
      "Olympics_Data$1666650745\n",
      "\n",
      "---------------------------------\n",
      "   year       city discipline          sport_group ioc_code iso_code  \\\n",
      "0  1992  Barcelona     Diving  Swimming and Diving      CHN      CHN   \n",
      "1  1992  Barcelona     Diving  Swimming and Diving      USA      USA   \n",
      "2  1992  Barcelona     Diving  Swimming and Diving      EUN      EUN   \n",
      "3  1992  Barcelona     Diving  Swimming and Diving      GER      DEU   \n",
      "4  1992  Barcelona   Swimming  Swimming and Diving      USA      USA   \n",
      "\n",
      "        country    region event_sex participant_type            event   medal  \\\n",
      "0         China      Asia       Men           Single     10M Platform  Bronze   \n",
      "1           USA  Americas     Women           Single     10M Platform  Bronze   \n",
      "2  Unified Team  noregion       Men           Single   3M Springboard  Bronze   \n",
      "3       Germany    Europe     Women           Single   3M Springboard  Bronze   \n",
      "4           USA  Americas       Men           Single  100M Backstroke  Bronze   \n",
      "\n",
      "  olympic_type  \n",
      "0       summer  \n",
      "1       summer  \n",
      "2       summer  \n",
      "3       summer  \n",
      "4       summer  \n",
      "              year\n",
      "count  8294.000000\n",
      "mean   2004.794791\n",
      "std       8.130142\n",
      "min    1992.000000\n",
      "25%    1998.000000\n",
      "50%    2004.000000\n",
      "75%    2012.000000\n",
      "max    2018.000000\n",
      "\n",
      "---------------------------------\n",
      "Governance_Data$1666650745\n",
      "\n",
      "---------------------------------\n",
      "  Country Name Country Code  \\\n",
      "0  Afghanistan          AFG   \n",
      "1  Afghanistan          AFG   \n",
      "2  Afghanistan          AFG   \n",
      "3  Afghanistan          AFG   \n",
      "4  Afghanistan          AFG   \n",
      "\n",
      "                                         Series Name       Series Code  \\\n",
      "0                    Control of Corruption: Estimate            CC.EST   \n",
      "1           Control of Corruption: Number of Sources         CC.NO.SRC   \n",
      "2             Control of Corruption: Percentile Rank        CC.PER.RNK   \n",
      "3  Control of Corruption: Percentile Rank, Lower ...  CC.PER.RNK.LOWER   \n",
      "4  Control of Corruption: Percentile Rank, Upper ...  CC.PER.RNK.UPPER   \n",
      "\n",
      "   1996 [YR1996]  2000 [YR2000]  2004 [YR2004]  2008 [YR2008]  2012 [YR2012]  \\\n",
      "0      -1.291705      -1.271724      -1.350647      -1.672096      -1.430373   \n",
      "1       2.000000       2.000000       5.000000       7.000000      10.000000   \n",
      "2       4.301075       4.787234       6.403941       0.485437       1.421801   \n",
      "3       0.000000       0.000000       0.000000       0.000000       0.000000   \n",
      "4      27.419355      30.851065      15.270936       4.368932      11.848341   \n",
      "\n",
      "   2016 [YR2016]  2020 [YR2020]  \n",
      "0      -1.534049      -1.480538  \n",
      "1      10.000000       9.000000  \n",
      "2       3.846154       4.807693  \n",
      "3       0.000000       0.000000  \n",
      "4       9.615385      10.576923  \n",
      "       1996 [YR1996]  2000 [YR2000]  2004 [YR2004]  2008 [YR2008]  \\\n",
      "count    6876.000000    6912.000000    7398.000000    7488.000000   \n",
      "mean       25.653753      25.739173      25.957959      26.271420   \n",
      "std        32.341303      32.268548      31.886705      31.721664   \n",
      "min        -2.682813      -2.474238      -3.180352      -3.280517   \n",
      "25%         0.373912       0.342506       0.319958       0.309818   \n",
      "50%         6.000000       6.000000       8.000000      10.000000   \n",
      "75%        50.533344      50.819672      50.000000      50.480770   \n",
      "max       100.000000     100.000000     100.000000     100.000000   \n",
      "\n",
      "       2012 [YR2012]  2016 [YR2016]  2020 [YR2020]  \n",
      "count    7656.000000    7506.000000    7542.000000  \n",
      "mean       26.443716      26.301871      26.114823  \n",
      "std        31.608695      31.654592      31.766198  \n",
      "min        -2.860755      -2.916323      -2.708138  \n",
      "25%         0.265910       0.256322       0.272308  \n",
      "50%        10.900474      10.000000       9.000000  \n",
      "75%        50.236965      49.753696      49.528301  \n",
      "max       100.000000     100.000000     100.000000  \n"
     ]
    }
   ],
   "source": [
    "for df in dictdf:\n",
    "  print('\\n---------------------------------')\n",
    "  print(df)\n",
    "  print('\\n---------------------------------')\n",
    "  print(dictdf[df].head(5))\n",
    "  print(dictdf[df].describe())\n"
   ]
  },
  {
   "cell_type": "markdown",
   "id": "cd56ffcd",
   "metadata": {
    "id": "Wo_Vat5Yw4Y2",
    "papermill": {
     "duration": 0.007221,
     "end_time": "2022-10-24T22:32:28.886771",
     "exception": false,
     "start_time": "2022-10-24T22:32:28.879550",
     "status": "completed"
    },
    "tags": []
   },
   "source": []
  },
  {
   "cell_type": "code",
   "execution_count": 6,
   "id": "2e35b736",
   "metadata": {
    "colab": {
     "base_uri": "https://localhost:8080/"
    },
    "execution": {
     "iopub.execute_input": "2022-10-24T22:32:28.905736Z",
     "iopub.status.busy": "2022-10-24T22:32:28.905097Z",
     "iopub.status.idle": "2022-10-24T22:32:28.920074Z",
     "shell.execute_reply": "2022-10-24T22:32:28.920668Z"
    },
    "executionInfo": {
     "elapsed": 408,
     "status": "ok",
     "timestamp": 1666446400729,
     "user": {
      "displayName": "Achraf Hmimou",
      "userId": "16128354855213705162"
     },
     "user_tz": -120
    },
    "id": "9Vgc-DGDfeKv",
    "outputId": "f25e0f3e-0748-4d3c-af89-d7b743e4f038",
    "papermill": {
     "duration": 0.026311,
     "end_time": "2022-10-24T22:32:28.920841",
     "exception": false,
     "start_time": "2022-10-24T22:32:28.894530",
     "status": "completed"
    },
    "tags": []
   },
   "outputs": [
    {
     "data": {
      "text/plain": [
       "[('Country_Level_Data$1666650745',),\n",
       " ('Governance_Data$1666650745',),\n",
       " ('Olympics_Data$1666650745',)]"
      ]
     },
     "execution_count": 6,
     "metadata": {},
     "output_type": "execute_result"
    }
   ],
   "source": [
    "con.execute(\"SHOW TABLES\").fetchall()"
   ]
  },
  {
   "cell_type": "code",
   "execution_count": 7,
   "id": "eba31b83",
   "metadata": {
    "execution": {
     "iopub.execute_input": "2022-10-24T22:32:28.967151Z",
     "iopub.status.busy": "2022-10-24T22:32:28.966333Z",
     "iopub.status.idle": "2022-10-24T22:32:28.968660Z",
     "shell.execute_reply": "2022-10-24T22:32:28.969124Z"
    },
    "executionInfo": {
     "elapsed": 295,
     "status": "ok",
     "timestamp": 1666446405401,
     "user": {
      "displayName": "Achraf Hmimou",
      "userId": "16128354855213705162"
     },
     "user_tz": -120
    },
    "id": "ZJ1B2GOHnfHL",
    "papermill": {
     "duration": 0.04069,
     "end_time": "2022-10-24T22:32:28.969304",
     "exception": false,
     "start_time": "2022-10-24T22:32:28.928614",
     "status": "completed"
    },
    "tags": []
   },
   "outputs": [],
   "source": [
    "con.close()"
   ]
  }
 ],
 "metadata": {
  "colab": {
   "collapsed_sections": [],
   "provenance": []
  },
  "kernelspec": {
   "display_name": "Python 3",
   "name": "python3"
  },
  "language_info": {
   "codemirror_mode": {
    "name": "ipython",
    "version": 3
   },
   "file_extension": ".py",
   "mimetype": "text/x-python",
   "name": "python",
   "nbconvert_exporter": "python",
   "pygments_lexer": "ipython3",
   "version": "3.9.4"
  },
  "papermill": {
   "default_parameters": {},
   "duration": 3.428792,
   "end_time": "2022-10-24T22:32:29.287568",
   "environment_variables": {},
   "exception": null,
   "input_path": "./formatted/formatted.ipynb",
   "output_path": "./out/formatted_out.ipynb",
   "parameters": {},
   "start_time": "2022-10-24T22:32:25.858776",
   "version": "2.4.0"
  }
 },
 "nbformat": 4,
 "nbformat_minor": 5
}