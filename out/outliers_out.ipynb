{
 "cells": [
  {
   "cell_type": "markdown",
   "id": "b2dc0e4c",
   "metadata": {
    "id": "hRvwFsIjCMmZ",
    "papermill": {
     "duration": 0.007849,
     "end_time": "2022-10-24T22:32:33.817370",
     "exception": false,
     "start_time": "2022-10-24T22:32:33.809521",
     "status": "completed"
    },
    "tags": []
   },
   "source": [
    "### Read data"
   ]
  },
  {
   "cell_type": "code",
   "execution_count": 1,
   "id": "22fdd694",
   "metadata": {
    "colab": {
     "base_uri": "https://localhost:8080/"
    },
    "execution": {
     "iopub.execute_input": "2022-10-24T22:32:33.841096Z",
     "iopub.status.busy": "2022-10-24T22:32:33.840490Z",
     "iopub.status.idle": "2022-10-24T22:32:36.187050Z",
     "shell.execute_reply": "2022-10-24T22:32:36.187491Z"
    },
    "executionInfo": {
     "elapsed": 8692,
     "status": "ok",
     "timestamp": 1666450248228,
     "user": {
      "displayName": "Aniol Bisquert Parés",
      "userId": "04084732713030354956"
     },
     "user_tz": -120
    },
    "id": "pC1oZehOCwIc",
    "outputId": "9fdb19b0-5b3a-4deb-8f97-cf8c5dcc7f2d",
    "papermill": {
     "duration": 2.362861,
     "end_time": "2022-10-24T22:32:36.187735",
     "exception": false,
     "start_time": "2022-10-24T22:32:33.824874",
     "status": "completed"
    },
    "tags": []
   },
   "outputs": [
    {
     "name": "stdout",
     "output_type": "stream",
     "text": [
      "Requirement already satisfied: duckdb in /Library/Frameworks/Python.framework/Versions/3.9/lib/python3.9/site-packages (0.5.1)\r\n",
      "Requirement already satisfied: numpy>=1.14 in /Library/Frameworks/Python.framework/Versions/3.9/lib/python3.9/site-packages (from duckdb) (1.20.2)\r\n"
     ]
    },
    {
     "name": "stdout",
     "output_type": "stream",
     "text": [
      "\u001b[33mWARNING: You are using pip version 21.1.1; however, version 22.3 is available.\r\n",
      "You should consider upgrading via the '/Library/Frameworks/Python.framework/Versions/3.9/bin/python3.9 -m pip install --upgrade pip' command.\u001b[0m\r\n"
     ]
    }
   ],
   "source": [
    "!pip install duckdb\n",
    "import duckdb\n",
    "import pandas as pd\n",
    "import numpy as np\n",
    "import matplotlib.pyplot as plt"
   ]
  },
  {
   "cell_type": "code",
   "execution_count": 2,
   "id": "2de7210c",
   "metadata": {
    "colab": {
     "base_uri": "https://localhost:8080/"
    },
    "execution": {
     "iopub.execute_input": "2022-10-24T22:32:36.208910Z",
     "iopub.status.busy": "2022-10-24T22:32:36.208110Z",
     "iopub.status.idle": "2022-10-24T22:32:36.210012Z",
     "shell.execute_reply": "2022-10-24T22:32:36.210493Z"
    },
    "executionInfo": {
     "elapsed": 2002,
     "status": "ok",
     "timestamp": 1666450290935,
     "user": {
      "displayName": "Aniol Bisquert Parés",
      "userId": "04084732713030354956"
     },
     "user_tz": -120
    },
    "id": "whe6ris8qs-N",
    "outputId": "fa97c76c-f3a9-4374-e56e-420a0ad51db6",
    "papermill": {
     "duration": 0.014327,
     "end_time": "2022-10-24T22:32:36.210709",
     "exception": false,
     "start_time": "2022-10-24T22:32:36.196382",
     "status": "completed"
    },
    "tags": []
   },
   "outputs": [],
   "source": [
    "#from google.colab import drive\n",
    "#drive.mount('/content/drive')"
   ]
  },
  {
   "cell_type": "code",
   "execution_count": 3,
   "id": "96c59a45",
   "metadata": {
    "colab": {
     "base_uri": "https://localhost:8080/"
    },
    "execution": {
     "iopub.execute_input": "2022-10-24T22:32:36.237930Z",
     "iopub.status.busy": "2022-10-24T22:32:36.237193Z",
     "iopub.status.idle": "2022-10-24T22:32:36.239543Z",
     "shell.execute_reply": "2022-10-24T22:32:36.240177Z"
    },
    "executionInfo": {
     "elapsed": 367,
     "status": "ok",
     "timestamp": 1666450294418,
     "user": {
      "displayName": "Aniol Bisquert Parés",
      "userId": "04084732713030354956"
     },
     "user_tz": -120
    },
    "id": "eXRCSsnbCt1u",
    "outputId": "1c4ca244-5854-41bb-f6b4-c460cfc4fe05",
    "papermill": {
     "duration": 0.02145,
     "end_time": "2022-10-24T22:32:36.240364",
     "exception": false,
     "start_time": "2022-10-24T22:32:36.218914",
     "status": "completed"
    },
    "tags": []
   },
   "outputs": [
    {
     "name": "stdout",
     "output_type": "stream",
     "text": [
      "[(1,)]\n"
     ]
    }
   ],
   "source": [
    "# to use a database file (not shared between processes)\n",
    "#con = duckdb.connect(database='/content/drive/MyDrive/projecteADSDB/trusted/trusted.duckdb', read_only=False)\n",
    "con = duckdb.connect(database='./trusted/trusted.duckdb', read_only=False)\n",
    "print(con.execute('SELECT 1').fetchall())"
   ]
  },
  {
   "cell_type": "markdown",
   "id": "3ac9a843",
   "metadata": {
    "id": "iwBzFEzhChqT",
    "papermill": {
     "duration": 0.008058,
     "end_time": "2022-10-24T22:32:36.256752",
     "exception": false,
     "start_time": "2022-10-24T22:32:36.248694",
     "status": "completed"
    },
    "tags": []
   },
   "source": [
    "# Outlier detection\n",
    "## Visualization\n",
    "\n"
   ]
  },
  {
   "cell_type": "code",
   "execution_count": 4,
   "id": "657e0eed",
   "metadata": {
    "execution": {
     "iopub.execute_input": "2022-10-24T22:32:36.280298Z",
     "iopub.status.busy": "2022-10-24T22:32:36.279496Z",
     "iopub.status.idle": "2022-10-24T22:32:36.928536Z",
     "shell.execute_reply": "2022-10-24T22:32:36.929535Z"
    },
    "executionInfo": {
     "elapsed": 946,
     "status": "ok",
     "timestamp": 1666450297640,
     "user": {
      "displayName": "Aniol Bisquert Parés",
      "userId": "04084732713030354956"
     },
     "user_tz": -120
    },
    "id": "kp0O6aYM2hlf",
    "papermill": {
     "duration": 0.663909,
     "end_time": "2022-10-24T22:32:36.929810",
     "exception": false,
     "start_time": "2022-10-24T22:32:36.265901",
     "status": "completed"
    },
    "tags": []
   },
   "outputs": [],
   "source": [
    "import seaborn as sns\n",
    "from IPython import display\n",
    "import time\n",
    "\n",
    "def outlierVisualization(df):\n",
    "  numdf = df.select_dtypes(include=np.number)\n",
    "  numdf.plot(\n",
    "    kind='box', \n",
    "    subplots=True, \n",
    "    sharey=False, \n",
    "    figsize=(10, 6)\n",
    "  )\n",
    "\n",
    "  # increase spacing between subplots\n",
    "  plt.subplots_adjust(wspace=0.5) \n",
    "  plt.show()\n",
    "\n",
    "\n",
    "def outlierRemoving(df):\n",
    "  numdf = df.select_dtypes(include=np.number)\n",
    "  print('before... ', df.size)\n",
    "  for col in numdf:\n",
    "    q = df[col].quantile(0.99)\n",
    "    df = df[numdf[col] < q]\n",
    "  print('after... ', df.size)\n",
    "  return df\n",
    "  \n"
   ]
  },
  {
   "cell_type": "markdown",
   "id": "c18487e9",
   "metadata": {
    "id": "DppfJgRJKpiy",
    "papermill": {
     "duration": 0.009294,
     "end_time": "2022-10-24T22:32:36.948078",
     "exception": false,
     "start_time": "2022-10-24T22:32:36.938784",
     "status": "completed"
    },
    "tags": []
   },
   "source": [
    "Outlier visualization"
   ]
  },
  {
   "cell_type": "code",
   "execution_count": 5,
   "id": "30e9c3f8",
   "metadata": {
    "colab": {
     "base_uri": "https://localhost:8080/",
     "height": 1000
    },
    "execution": {
     "iopub.execute_input": "2022-10-24T22:32:36.969725Z",
     "iopub.status.busy": "2022-10-24T22:32:36.969132Z",
     "iopub.status.idle": "2022-10-24T22:32:38.380842Z",
     "shell.execute_reply": "2022-10-24T22:32:38.381392Z"
    },
    "executionInfo": {
     "elapsed": 1953,
     "status": "ok",
     "timestamp": 1666450570347,
     "user": {
      "displayName": "Aniol Bisquert Parés",
      "userId": "04084732713030354956"
     },
     "user_tz": -120
    },
    "id": "6fuiJ12dKpMo",
    "outputId": "56377c83-7220-484b-e250-3bee8259c9c1",
    "papermill": {
     "duration": 1.424475,
     "end_time": "2022-10-24T22:32:38.381608",
     "exception": false,
     "start_time": "2022-10-24T22:32:36.957133",
     "status": "completed"
    },
    "tags": []
   },
   "outputs": [
    {
     "data": {
      "image/png": "[encoded data removed]",
      "text/plain": [
       "<Figure size 720x432 with 7 Axes>"
      ]
     },
     "metadata": {
      "needs_background": "light"
     },
     "output_type": "display_data"
    },
    {
     "data": {
      "image/png": "[encoded data removed]",
      "text/plain": [
       "<Figure size 720x432 with 7 Axes>"
      ]
     },
     "metadata": {
      "needs_background": "light"
     },
     "output_type": "display_data"
    },
    {
     "data": {
      "image/png": "[encoded data removed]",
      "text/plain": [
       "<Figure size 720x432 with 1 Axes>"
      ]
     },
     "metadata": {
      "needs_background": "light"
     },
     "output_type": "display_data"
    }
   ],
   "source": [
    "l = con.execute(\"SHOW TABLES\").fetchall()\n",
    "tables = list([t for (t,) in l])\n",
    "\n",
    "dictds = {}\n",
    "\n",
    "for ds in tables:\n",
    "  # table as dataframe\n",
    "  df = con.execute(f'SELECT * FROM {ds}').df()\n",
    "  dictds[ds] = df\n",
    "  # apply function\n",
    "  outlierVisualization(dictds[ds])\n",
    "  "
   ]
  },
  {
   "cell_type": "markdown",
   "id": "3156a164",
   "metadata": {
    "id": "_RnikraqEkyy",
    "papermill": {
     "duration": 0.011489,
     "end_time": "2022-10-24T22:32:38.404521",
     "exception": false,
     "start_time": "2022-10-24T22:32:38.393032",
     "status": "completed"
    },
    "tags": []
   },
   "source": [
    "### Outlier removal "
   ]
  },
  {
   "cell_type": "code",
   "execution_count": 6,
   "id": "259f03f0",
   "metadata": {
    "colab": {
     "base_uri": "https://localhost:8080/"
    },
    "execution": {
     "iopub.execute_input": "2022-10-24T22:32:38.433065Z",
     "iopub.status.busy": "2022-10-24T22:32:38.432355Z",
     "iopub.status.idle": "2022-10-24T22:32:38.509160Z",
     "shell.execute_reply": "2022-10-24T22:32:38.509657Z"
    },
    "executionInfo": {
     "elapsed": 323,
     "status": "ok",
     "timestamp": 1666450573485,
     "user": {
      "displayName": "Aniol Bisquert Parés",
      "userId": "04084732713030354956"
     },
     "user_tz": -120
    },
    "id": "pap2hqilGpRe",
    "outputId": "e053e742-182a-4b85-cea9-dff5693a96a9",
    "papermill": {
     "duration": 0.093667,
     "end_time": "2022-10-24T22:32:38.509842",
     "exception": false,
     "start_time": "2022-10-24T22:32:38.416175",
     "status": "completed"
    },
    "tags": []
   },
   "outputs": [
    {
     "name": "stdout",
     "output_type": "stream",
     "text": [
      "before...  26104\n",
      "after...  23296\n",
      "before...  84777\n",
      "after...  69058\n",
      "before...  107705\n",
      "after...  103714\n"
     ]
    },
    {
     "name": "stderr",
     "output_type": "stream",
     "text": [
      "<ipython-input-4-68ce86505c0d>:24: UserWarning: Boolean Series key will be reindexed to match DataFrame index.\n",
      "  df = df[numdf[col] < q]\n"
     ]
    }
   ],
   "source": [
    "for ds in tables:\n",
    "  # apply function\n",
    "  df = outlierRemoving(dictds[ds])\n",
    "  dictds[ds] = df\n",
    "  # replace table with new imputed one\n",
    "  con.execute(f'DROP TABLE IF EXISTS {ds};')\n",
    "  con.execute(f'CREATE TABLE IF NOT EXISTS {ds} AS SELECT * FROM df;')\n",
    "\n"
   ]
  },
  {
   "cell_type": "markdown",
   "id": "b6fa92d3",
   "metadata": {
    "id": "u3xQsoTnFARD",
    "papermill": {
     "duration": 0.012082,
     "end_time": "2022-10-24T22:32:38.533969",
     "exception": false,
     "start_time": "2022-10-24T22:32:38.521887",
     "status": "completed"
    },
    "tags": []
   },
   "source": [
    "### Visualize the results"
   ]
  },
  {
   "cell_type": "code",
   "execution_count": 7,
   "id": "45b2f607",
   "metadata": {
    "colab": {
     "base_uri": "https://localhost:8080/",
     "height": 1000
    },
    "execution": {
     "iopub.execute_input": "2022-10-24T22:32:38.564955Z",
     "iopub.status.busy": "2022-10-24T22:32:38.564360Z",
     "iopub.status.idle": "2022-10-24T22:32:39.751479Z",
     "shell.execute_reply": "2022-10-24T22:32:39.751939Z"
    },
    "executionInfo": {
     "elapsed": 1765,
     "status": "ok",
     "timestamp": 1666450583704,
     "user": {
      "displayName": "Aniol Bisquert Parés",
      "userId": "04084732713030354956"
     },
     "user_tz": -120
    },
    "id": "cY27LVCbHPGB",
    "outputId": "d55b1a49-81b1-48e1-8314-cb074b3e9858",
    "papermill": {
     "duration": 1.206229,
     "end_time": "2022-10-24T22:32:39.752157",
     "exception": false,
     "start_time": "2022-10-24T22:32:38.545928",
     "status": "completed"
    },
    "tags": []
   },
   "outputs": [
    {
     "data": {
      "image/png": "[encoded data removed]",
      "text/plain": [
       "<Figure size 720x432 with 7 Axes>"
      ]
     },
     "metadata": {
      "needs_background": "light"
     },
     "output_type": "display_data"
    },
    {
     "data": {
      "image/png": "[encoded data removed]",
      "text/plain": [
       "<Figure size 720x432 with 7 Axes>"
      ]
     },
     "metadata": {
      "needs_background": "light"
     },
     "output_type": "display_data"
    },
    {
     "data": {
      "image/png": "[encoded data removed]",
      "text/plain": [
       "<Figure size 720x432 with 1 Axes>"
      ]
     },
     "metadata": {
      "needs_background": "light"
     },
     "output_type": "display_data"
    }
   ],
   "source": [
    "for ds in tables:\n",
    "  # apply function\n",
    "  outlierVisualization(dictds[ds])\n",
    "  "
   ]
  },
  {
   "cell_type": "code",
   "execution_count": 8,
   "id": "d18058c4",
   "metadata": {
    "colab": {
     "base_uri": "https://localhost:8080/"
    },
    "execution": {
     "iopub.execute_input": "2022-10-24T22:32:39.787039Z",
     "iopub.status.busy": "2022-10-24T22:32:39.786355Z",
     "iopub.status.idle": "2022-10-24T22:32:39.790241Z",
     "shell.execute_reply": "2022-10-24T22:32:39.790940Z"
    },
    "executionInfo": {
     "elapsed": 265,
     "status": "ok",
     "timestamp": 1666450643932,
     "user": {
      "displayName": "Aniol Bisquert Parés",
      "userId": "04084732713030354956"
     },
     "user_tz": -120
    },
    "id": "VdtUvDOLGW91",
    "outputId": "def69cb8-046b-4d1e-da00-2521e3d9ea06",
    "papermill": {
     "duration": 0.023654,
     "end_time": "2022-10-24T22:32:39.791166",
     "exception": false,
     "start_time": "2022-10-24T22:32:39.767512",
     "status": "completed"
    },
    "tags": []
   },
   "outputs": [
    {
     "data": {
      "text/plain": [
       "[('Country_Level_Data',), ('Governance_Data',), ('Olympics_Data',)]"
      ]
     },
     "execution_count": 8,
     "metadata": {},
     "output_type": "execute_result"
    }
   ],
   "source": [
    "con.execute(\"SHOW TABLES\").fetchall()"
   ]
  },
  {
   "cell_type": "markdown",
   "id": "7e381366",
   "metadata": {
    "id": "uZPLrmDrINX6",
    "papermill": {
     "duration": 0.015714,
     "end_time": "2022-10-24T22:32:39.823685",
     "exception": false,
     "start_time": "2022-10-24T22:32:39.807971",
     "status": "completed"
    },
    "tags": []
   },
   "source": [
    "Close connection"
   ]
  },
  {
   "cell_type": "code",
   "execution_count": 9,
   "id": "9ab1e58b",
   "metadata": {
    "execution": {
     "iopub.execute_input": "2022-10-24T22:32:39.886300Z",
     "iopub.status.busy": "2022-10-24T22:32:39.885452Z",
     "iopub.status.idle": "2022-10-24T22:32:39.887084Z",
     "shell.execute_reply": "2022-10-24T22:32:39.887481Z"
    },
    "executionInfo": {
     "elapsed": 239,
     "status": "ok",
     "timestamp": 1666450645904,
     "user": {
      "displayName": "Aniol Bisquert Parés",
      "userId": "04084732713030354956"
     },
     "user_tz": -120
    },
    "id": "P9Qx_v8WGRvF",
    "papermill": {
     "duration": 0.048027,
     "end_time": "2022-10-24T22:32:39.887708",
     "exception": false,
     "start_time": "2022-10-24T22:32:39.839681",
     "status": "completed"
    },
    "tags": []
   },
   "outputs": [],
   "source": [
    "con.close()"
   ]
  }
 ],
 "metadata": {
  "colab": {
   "provenance": []
  },
  "kernelspec": {
   "display_name": "Python 3",
   "name": "python3"
  },
  "language_info": {
   "codemirror_mode": {
    "name": "ipython",
    "version": 3
   },
   "file_extension": ".py",
   "mimetype": "text/x-python",
   "name": "python",
   "nbconvert_exporter": "python",
   "pygments_lexer": "ipython3",
   "version": "3.9.4"
  },
  "papermill": {
   "default_parameters": {},
   "duration": 8.042481,
   "end_time": "2022-10-24T22:32:41.126861",
   "environment_variables": {},
   "exception": null,
   "input_path": "./trusted/outliers.ipynb",
   "output_path": "./out/outliers_out.ipynb",
   "parameters": {},
   "start_time": "2022-10-24T22:32:33.084380",
   "version": "2.4.0"
  }
 },
 "nbformat": 4,
 "nbformat_minor": 5
}