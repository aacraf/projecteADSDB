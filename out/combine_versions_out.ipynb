{
 "cells": [
  {
   "cell_type": "code",
   "execution_count": 1,
   "id": "2f31bf0a",
   "metadata": {
    "colab": {
     "base_uri": "https://localhost:8080/"
    },
    "execution": {
     "iopub.execute_input": "2022-10-24T22:32:30.092421Z",
     "iopub.status.busy": "2022-10-24T22:32:30.091639Z",
     "iopub.status.idle": "2022-10-24T22:32:32.340639Z",
     "shell.execute_reply": "2022-10-24T22:32:32.341119Z"
    },
    "executionInfo": {
     "elapsed": 11187,
     "status": "ok",
     "timestamp": 1666446539339,
     "user": {
      "displayName": "Achraf Hmimou",
      "userId": "16128354855213705162"
     },
     "user_tz": -120
    },
    "id": "qqqC-fcc8RRl",
    "outputId": "85b9e026-c904-4720-bea6-1023920286a5",
    "papermill": {
     "duration": 2.27555,
     "end_time": "2022-10-24T22:32:32.341387",
     "exception": false,
     "start_time": "2022-10-24T22:32:30.065837",
     "status": "completed"
    },
    "tags": []
   },
   "outputs": [
    {
     "name": "stdout",
     "output_type": "stream",
     "text": [
      "Requirement already satisfied: duckdb in /Library/Frameworks/Python.framework/Versions/3.9/lib/python3.9/site-packages (0.5.1)\r\n"
     ]
    },
    {
     "name": "stdout",
     "output_type": "stream",
     "text": [
      "Requirement already satisfied: numpy>=1.14 in /Library/Frameworks/Python.framework/Versions/3.9/lib/python3.9/site-packages (from duckdb) (1.20.2)\r\n"
     ]
    },
    {
     "name": "stdout",
     "output_type": "stream",
     "text": [
      "\u001b[33mWARNING: You are using pip version 21.1.1; however, version 22.3 is available.\r\n",
      "You should consider upgrading via the '/Library/Frameworks/Python.framework/Versions/3.9/bin/python3.9 -m pip install --upgrade pip' command.\u001b[0m\r\n"
     ]
    }
   ],
   "source": [
    "!pip install duckdb\n",
    "\n",
    "import duckdb\n",
    "import pandas as pd\n",
    "import itertools"
   ]
  },
  {
   "cell_type": "code",
   "execution_count": 2,
   "id": "892d5e05",
   "metadata": {
    "colab": {
     "base_uri": "https://localhost:8080/"
    },
    "execution": {
     "iopub.execute_input": "2022-10-24T22:32:32.360795Z",
     "iopub.status.busy": "2022-10-24T22:32:32.360045Z",
     "iopub.status.idle": "2022-10-24T22:32:32.362188Z",
     "shell.execute_reply": "2022-10-24T22:32:32.362672Z"
    },
    "executionInfo": {
     "elapsed": 28937,
     "status": "ok",
     "timestamp": 1666446568248,
     "user": {
      "displayName": "Achraf Hmimou",
      "userId": "16128354855213705162"
     },
     "user_tz": -120
    },
    "id": "K9IopvRn8gqa",
    "outputId": "d7fb56f5-970d-4485-c90b-5974bad28abe",
    "papermill": {
     "duration": 0.013754,
     "end_time": "2022-10-24T22:32:32.362843",
     "exception": false,
     "start_time": "2022-10-24T22:32:32.349089",
     "status": "completed"
    },
    "tags": []
   },
   "outputs": [],
   "source": [
    "#from google.colab import drive\n",
    "#drive.mount('/content/drive')"
   ]
  },
  {
   "cell_type": "code",
   "execution_count": 3,
   "id": "37ebdf8d",
   "metadata": {
    "colab": {
     "base_uri": "https://localhost:8080/"
    },
    "execution": {
     "iopub.execute_input": "2022-10-24T22:32:32.389756Z",
     "iopub.status.busy": "2022-10-24T22:32:32.389108Z",
     "iopub.status.idle": "2022-10-24T22:32:32.391739Z",
     "shell.execute_reply": "2022-10-24T22:32:32.392261Z"
    },
    "executionInfo": {
     "elapsed": 27,
     "status": "ok",
     "timestamp": 1666446574049,
     "user": {
      "displayName": "Achraf Hmimou",
      "userId": "16128354855213705162"
     },
     "user_tz": -120
    },
    "id": "8V4k7Al44c9R",
    "outputId": "909aa801-9f98-4128-82e5-83e86e7c27a1",
    "papermill": {
     "duration": 0.022011,
     "end_time": "2022-10-24T22:32:32.392448",
     "exception": false,
     "start_time": "2022-10-24T22:32:32.370437",
     "status": "completed"
    },
    "tags": []
   },
   "outputs": [
    {
     "name": "stdout",
     "output_type": "stream",
     "text": [
      "[(1,)]\n"
     ]
    }
   ],
   "source": [
    "#con = duckdb.connect(database='/content/drive/MyDrive/projecteADSDB/formatted/formatted.duckdb', read_only=True)\n",
    "con = duckdb.connect(database='./formatted/formatted.duckdb', read_only=True)\n",
    "print(con.execute('SELECT 1').fetchall())"
   ]
  },
  {
   "cell_type": "markdown",
   "id": "040a91c5",
   "metadata": {
    "id": "X2kYeYso9z2D",
    "papermill": {
     "duration": 0.007763,
     "end_time": "2022-10-24T22:32:32.407726",
     "exception": false,
     "start_time": "2022-10-24T22:32:32.399963",
     "status": "completed"
    },
    "tags": []
   },
   "source": [
    "We assume data integration can be done by loading the latest table of each data source based on the timestamp"
   ]
  },
  {
   "cell_type": "code",
   "execution_count": 4,
   "id": "1216130f",
   "metadata": {
    "execution": {
     "iopub.execute_input": "2022-10-24T22:32:32.426564Z",
     "iopub.status.busy": "2022-10-24T22:32:32.425978Z",
     "iopub.status.idle": "2022-10-24T22:32:32.434860Z",
     "shell.execute_reply": "2022-10-24T22:32:32.435271Z"
    },
    "executionInfo": {
     "elapsed": 5,
     "status": "ok",
     "timestamp": 1666446576863,
     "user": {
      "displayName": "Achraf Hmimou",
      "userId": "16128354855213705162"
     },
     "user_tz": -120
    },
    "id": "EwQUhXko824h",
    "papermill": {
     "duration": 0.019815,
     "end_time": "2022-10-24T22:32:32.435496",
     "exception": false,
     "start_time": "2022-10-24T22:32:32.415681",
     "status": "completed"
    },
    "tags": []
   },
   "outputs": [],
   "source": [
    "l = con.execute(\"SHOW TABLES\").fetchall()\n",
    "out = list([t for (t,) in l])"
   ]
  },
  {
   "cell_type": "code",
   "execution_count": 5,
   "id": "99e4cee0",
   "metadata": {
    "execution": {
     "iopub.execute_input": "2022-10-24T22:32:32.455158Z",
     "iopub.status.busy": "2022-10-24T22:32:32.454450Z",
     "iopub.status.idle": "2022-10-24T22:32:32.457167Z",
     "shell.execute_reply": "2022-10-24T22:32:32.456745Z"
    },
    "executionInfo": {
     "elapsed": 18,
     "status": "ok",
     "timestamp": 1666446580431,
     "user": {
      "displayName": "Achraf Hmimou",
      "userId": "16128354855213705162"
     },
     "user_tz": -120
    },
    "id": "ufthcF2tdqa4",
    "papermill": {
     "duration": 0.014307,
     "end_time": "2022-10-24T22:32:32.457323",
     "exception": false,
     "start_time": "2022-10-24T22:32:32.443016",
     "status": "completed"
    },
    "tags": []
   },
   "outputs": [],
   "source": [
    "out.sort()\n",
    "\n",
    "def get_field_sub(x): return x.split('$')[0]\n",
    "\n",
    "mylist = sorted(out, key=get_field_sub)\n",
    "data = dict((x.split('$')[0],list(y)) for x, y in itertools.groupby(out, get_field_sub))"
   ]
  },
  {
   "cell_type": "code",
   "execution_count": 6,
   "id": "555e7bac",
   "metadata": {
    "execution": {
     "iopub.execute_input": "2022-10-24T22:32:32.479114Z",
     "iopub.status.busy": "2022-10-24T22:32:32.478518Z",
     "iopub.status.idle": "2022-10-24T22:32:32.528759Z",
     "shell.execute_reply": "2022-10-24T22:32:32.529173Z"
    },
    "executionInfo": {
     "elapsed": 910,
     "status": "ok",
     "timestamp": 1666446583304,
     "user": {
      "displayName": "Achraf Hmimou",
      "userId": "16128354855213705162"
     },
     "user_tz": -120
    },
    "id": "fqTiAytjPnMv",
    "papermill": {
     "duration": 0.064281,
     "end_time": "2022-10-24T22:32:32.529385",
     "exception": false,
     "start_time": "2022-10-24T22:32:32.465104",
     "status": "completed"
    },
    "tags": []
   },
   "outputs": [],
   "source": [
    "dsdict = {}\n",
    "\n",
    "for ds in data:\n",
    "  dsdict[ds] = pd.DataFrame()\n",
    "  for dsversion in data[ds]:\n",
    "    newdf = con.execute(f'SELECT * FROM {dsversion}').df()\n",
    "    dsdict[ds] = pd.concat([dsdict[ds],newdf]).drop_duplicates().reset_index(drop=True)\n",
    "    "
   ]
  },
  {
   "cell_type": "markdown",
   "id": "0e246a20",
   "metadata": {
    "id": "_ms_fC-SZmtx",
    "papermill": {
     "duration": 0.007771,
     "end_time": "2022-10-24T22:32:32.544919",
     "exception": false,
     "start_time": "2022-10-24T22:32:32.537148",
     "status": "completed"
    },
    "tags": []
   },
   "source": [
    "Store data to trusted"
   ]
  },
  {
   "cell_type": "code",
   "execution_count": 7,
   "id": "e797d740",
   "metadata": {
    "execution": {
     "iopub.execute_input": "2022-10-24T22:32:32.572154Z",
     "iopub.status.busy": "2022-10-24T22:32:32.571526Z",
     "iopub.status.idle": "2022-10-24T22:32:32.573500Z",
     "shell.execute_reply": "2022-10-24T22:32:32.574008Z"
    },
    "executionInfo": {
     "elapsed": 12,
     "status": "ok",
     "timestamp": 1666446585580,
     "user": {
      "displayName": "Achraf Hmimou",
      "userId": "16128354855213705162"
     },
     "user_tz": -120
    },
    "id": "uMUwjRthZeOn",
    "papermill": {
     "duration": 0.021654,
     "end_time": "2022-10-24T22:32:32.574250",
     "exception": false,
     "start_time": "2022-10-24T22:32:32.552596",
     "status": "completed"
    },
    "tags": []
   },
   "outputs": [],
   "source": [
    "#con = duckdb.connect(database='/content/drive/MyDrive/projecteADSDB/trusted/trusted.duckdb', read_only=False)\n",
    "con = duckdb.connect(database='./trusted/trusted.duckdb', read_only=False)"
   ]
  },
  {
   "cell_type": "code",
   "execution_count": 8,
   "id": "333cbaf9",
   "metadata": {
    "execution": {
     "iopub.execute_input": "2022-10-24T22:32:32.595858Z",
     "iopub.status.busy": "2022-10-24T22:32:32.595207Z",
     "iopub.status.idle": "2022-10-24T22:32:32.647363Z",
     "shell.execute_reply": "2022-10-24T22:32:32.647800Z"
    },
    "executionInfo": {
     "elapsed": 443,
     "status": "ok",
     "timestamp": 1666446588733,
     "user": {
      "displayName": "Achraf Hmimou",
      "userId": "16128354855213705162"
     },
     "user_tz": -120
    },
    "id": "ZnkUgMKQfUJg",
    "papermill": {
     "duration": 0.065183,
     "end_time": "2022-10-24T22:32:32.648016",
     "exception": false,
     "start_time": "2022-10-24T22:32:32.582833",
     "status": "completed"
    },
    "tags": []
   },
   "outputs": [],
   "source": [
    "for ds in dsdict:\n",
    "  df = dsdict[ds]\n",
    "  con.execute(f'DROP TABLE IF EXISTS {ds}')\n",
    "  con.execute(f\"CREATE TABLE IF NOT EXISTS {ds} AS SELECT * FROM df\")\n"
   ]
  },
  {
   "cell_type": "code",
   "execution_count": 9,
   "id": "5342d364",
   "metadata": {
    "colab": {
     "base_uri": "https://localhost:8080/"
    },
    "execution": {
     "iopub.execute_input": "2022-10-24T22:32:32.668276Z",
     "iopub.status.busy": "2022-10-24T22:32:32.667692Z",
     "iopub.status.idle": "2022-10-24T22:32:32.682308Z",
     "shell.execute_reply": "2022-10-24T22:32:32.682770Z"
    },
    "executionInfo": {
     "elapsed": 12,
     "status": "ok",
     "timestamp": 1666446590798,
     "user": {
      "displayName": "Achraf Hmimou",
      "userId": "16128354855213705162"
     },
     "user_tz": -120
    },
    "id": "DccY2XL446vR",
    "outputId": "aa3bfb7f-2af4-4e3f-bb8b-dcbc5e19916e",
    "papermill": {
     "duration": 0.02671,
     "end_time": "2022-10-24T22:32:32.682949",
     "exception": false,
     "start_time": "2022-10-24T22:32:32.656239",
     "status": "completed"
    },
    "tags": []
   },
   "outputs": [
    {
     "data": {
      "text/plain": [
       "[('Country_Level_Data',), ('Governance_Data',), ('Olympics_Data',)]"
      ]
     },
     "execution_count": 9,
     "metadata": {},
     "output_type": "execute_result"
    }
   ],
   "source": [
    "con.execute(\"SHOW TABLES\").fetchall()"
   ]
  },
  {
   "cell_type": "code",
   "execution_count": 10,
   "id": "7ce8a9e5",
   "metadata": {
    "execution": {
     "iopub.execute_input": "2022-10-24T22:32:32.727684Z",
     "iopub.status.busy": "2022-10-24T22:32:32.727088Z",
     "iopub.status.idle": "2022-10-24T22:32:32.728871Z",
     "shell.execute_reply": "2022-10-24T22:32:32.729531Z"
    },
    "executionInfo": {
     "elapsed": 420,
     "status": "ok",
     "timestamp": 1666446594657,
     "user": {
      "displayName": "Achraf Hmimou",
      "userId": "16128354855213705162"
     },
     "user_tz": -120
    },
    "id": "_CN5tLyLn9me",
    "papermill": {
     "duration": 0.03863,
     "end_time": "2022-10-24T22:32:32.729707",
     "exception": false,
     "start_time": "2022-10-24T22:32:32.691077",
     "status": "completed"
    },
    "tags": []
   },
   "outputs": [],
   "source": [
    "con.close()"
   ]
  }
 ],
 "metadata": {
  "colab": {
   "collapsed_sections": [],
   "provenance": []
  },
  "kernelspec": {
   "display_name": "Python 3",
   "name": "python3"
  },
  "language_info": {
   "codemirror_mode": {
    "name": "ipython",
    "version": 3
   },
   "file_extension": ".py",
   "mimetype": "text/x-python",
   "name": "python",
   "nbconvert_exporter": "python",
   "pygments_lexer": "ipython3",
   "version": "3.9.4"
  },
  "papermill": {
   "default_parameters": {},
   "duration": 3.723452,
   "end_time": "2022-10-24T22:32:33.045716",
   "environment_variables": {},
   "exception": null,
   "input_path": "./trusted/combine_versions.ipynb",
   "output_path": "./out/combine_versions_out.ipynb",
   "parameters": {},
   "start_time": "2022-10-24T22:32:29.322264",
   "version": "2.4.0"
  }
 },
 "nbformat": 4,
 "nbformat_minor": 5
}