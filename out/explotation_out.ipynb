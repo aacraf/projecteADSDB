{
 "cells": [
  {
   "cell_type": "code",
   "execution_count": 1,
   "id": "fe2de64f",
   "metadata": {
    "colab": {
     "base_uri": "https://localhost:8080/"
    },
    "execution": {
     "iopub.execute_input": "2022-10-24T22:33:38.718796Z",
     "iopub.status.busy": "2022-10-24T22:33:38.717533Z",
     "iopub.status.idle": "2022-10-24T22:33:41.227181Z",
     "shell.execute_reply": "2022-10-24T22:33:41.227804Z"
    },
    "executionInfo": {
     "elapsed": 8743,
     "status": "ok",
     "timestamp": 1666450984628,
     "user": {
      "displayName": "Achraf Hmimou",
      "userId": "16128354855213705162"
     },
     "user_tz": -120
    },
    "id": "Ie0qHHcULTKF",
    "outputId": "7e88a32f-c6a2-4136-b17e-bcd1ff445775",
    "papermill": {
     "duration": 2.527726,
     "end_time": "2022-10-24T22:33:41.228086",
     "exception": false,
     "start_time": "2022-10-24T22:33:38.700360",
     "status": "completed"
    },
    "tags": []
   },
   "outputs": [
    {
     "name": "stdout",
     "output_type": "stream",
     "text": [
      "Requirement already satisfied: duckdb in /Library/Frameworks/Python.framework/Versions/3.9/lib/python3.9/site-packages (0.5.1)\r\n",
      "Requirement already satisfied: numpy>=1.14 in /Library/Frameworks/Python.framework/Versions/3.9/lib/python3.9/site-packages (from duckdb) (1.20.2)\r\n"
     ]
    },
    {
     "name": "stdout",
     "output_type": "stream",
     "text": [
      "\u001b[33mWARNING: You are using pip version 21.1.1; however, version 22.3 is available.\r\n",
      "You should consider upgrading via the '/Library/Frameworks/Python.framework/Versions/3.9/bin/python3.9 -m pip install --upgrade pip' command.\u001b[0m\r\n"
     ]
    }
   ],
   "source": [
    "!pip install duckdb\n",
    "\n",
    "import duckdb\n",
    "import pandas as pd"
   ]
  },
  {
   "cell_type": "code",
   "execution_count": 2,
   "id": "595355e8",
   "metadata": {
    "colab": {
     "base_uri": "https://localhost:8080/"
    },
    "execution": {
     "iopub.execute_input": "2022-10-24T22:33:41.244457Z",
     "iopub.status.busy": "2022-10-24T22:33:41.243848Z",
     "iopub.status.idle": "2022-10-24T22:33:41.245525Z",
     "shell.execute_reply": "2022-10-24T22:33:41.246476Z"
    },
    "executionInfo": {
     "elapsed": 20655,
     "status": "ok",
     "timestamp": 1666451007948,
     "user": {
      "displayName": "Achraf Hmimou",
      "userId": "16128354855213705162"
     },
     "user_tz": -120
    },
    "id": "fZh6hCT1L548",
    "outputId": "c9f5c901-4cc4-4d3d-b077-180ead8f886f",
    "papermill": {
     "duration": 0.011943,
     "end_time": "2022-10-24T22:33:41.246708",
     "exception": false,
     "start_time": "2022-10-24T22:33:41.234765",
     "status": "completed"
    },
    "tags": []
   },
   "outputs": [],
   "source": [
    "#from google.colab import drive\n",
    "#drive.mount('/content/drive')"
   ]
  },
  {
   "cell_type": "markdown",
   "id": "0e17e3a4",
   "metadata": {
    "id": "hIYAYQRBMFlV",
    "papermill": {
     "duration": 0.006118,
     "end_time": "2022-10-24T22:33:41.259148",
     "exception": false,
     "start_time": "2022-10-24T22:33:41.253030",
     "status": "completed"
    },
    "tags": []
   },
   "source": [
    "# Load tables from trusted zone"
   ]
  },
  {
   "cell_type": "code",
   "execution_count": 3,
   "id": "d3a0d34e",
   "metadata": {
    "execution": {
     "iopub.execute_input": "2022-10-24T22:33:41.284623Z",
     "iopub.status.busy": "2022-10-24T22:33:41.283979Z",
     "iopub.status.idle": "2022-10-24T22:33:41.310965Z",
     "shell.execute_reply": "2022-10-24T22:33:41.311336Z"
    },
    "executionInfo": {
     "elapsed": 305,
     "status": "ok",
     "timestamp": 1666451012938,
     "user": {
      "displayName": "Achraf Hmimou",
      "userId": "16128354855213705162"
     },
     "user_tz": -120
    },
    "id": "SiaUItJgMDVA",
    "papermill": {
     "duration": 0.046119,
     "end_time": "2022-10-24T22:33:41.311513",
     "exception": false,
     "start_time": "2022-10-24T22:33:41.265394",
     "status": "completed"
    },
    "tags": []
   },
   "outputs": [],
   "source": [
    "#con = duckdb.connect(database='/content/drive/MyDrive/projecteADSDB/trusted/trusted.duckdb', read_only=False)\n",
    "con = duckdb.connect(database='./trusted/trusted.duckdb', read_only=False)\n",
    "\n",
    "l = con.execute(\"SHOW TABLES\").fetchall()\n",
    "namelist = list([t for (t,) in l])\n",
    "\n",
    "dftable = {}\n",
    "\n",
    "for table in namelist:\n",
    "  dftable[table] = con.execute(f'SELECT * FROM {table}').df()"
   ]
  },
  {
   "cell_type": "markdown",
   "id": "6a1ef8a3",
   "metadata": {
    "id": "caUiZA57FRVE",
    "papermill": {
     "duration": 0.006148,
     "end_time": "2022-10-24T22:33:41.323986",
     "exception": false,
     "start_time": "2022-10-24T22:33:41.317838",
     "status": "completed"
    },
    "tags": []
   },
   "source": [
    "close trusted connection"
   ]
  },
  {
   "cell_type": "code",
   "execution_count": 4,
   "id": "ad17e663",
   "metadata": {
    "execution": {
     "iopub.execute_input": "2022-10-24T22:33:41.341917Z",
     "iopub.status.busy": "2022-10-24T22:33:41.341222Z",
     "iopub.status.idle": "2022-10-24T22:33:41.343236Z",
     "shell.execute_reply": "2022-10-24T22:33:41.343713Z"
    },
    "executionInfo": {
     "elapsed": 7,
     "status": "ok",
     "timestamp": 1666451016065,
     "user": {
      "displayName": "Achraf Hmimou",
      "userId": "16128354855213705162"
     },
     "user_tz": -120
    },
    "id": "axIM0ZoBQX3N",
    "papermill": {
     "duration": 0.013561,
     "end_time": "2022-10-24T22:33:41.343911",
     "exception": false,
     "start_time": "2022-10-24T22:33:41.330350",
     "status": "completed"
    },
    "tags": []
   },
   "outputs": [],
   "source": [
    "con.close()"
   ]
  },
  {
   "cell_type": "markdown",
   "id": "cdb81545",
   "metadata": {
    "id": "0GH-lEWHO2j0",
    "papermill": {
     "duration": 0.006295,
     "end_time": "2022-10-24T22:33:41.356959",
     "exception": false,
     "start_time": "2022-10-24T22:33:41.350664",
     "status": "completed"
    },
    "tags": []
   },
   "source": [
    "# Store tables in explotation zone"
   ]
  },
  {
   "cell_type": "code",
   "execution_count": 5,
   "id": "24c36cdb",
   "metadata": {
    "execution": {
     "iopub.execute_input": "2022-10-24T22:33:41.381190Z",
     "iopub.status.busy": "2022-10-24T22:33:41.380587Z",
     "iopub.status.idle": "2022-10-24T22:33:41.458260Z",
     "shell.execute_reply": "2022-10-24T22:33:41.458686Z"
    },
    "executionInfo": {
     "elapsed": 265,
     "status": "ok",
     "timestamp": 1666451061347,
     "user": {
      "displayName": "Achraf Hmimou",
      "userId": "16128354855213705162"
     },
     "user_tz": -120
    },
    "id": "namu-bPdOaKI",
    "papermill": {
     "duration": 0.095585,
     "end_time": "2022-10-24T22:33:41.458872",
     "exception": false,
     "start_time": "2022-10-24T22:33:41.363287",
     "status": "completed"
    },
    "tags": []
   },
   "outputs": [
    {
     "name": "stdout",
     "output_type": "stream",
     "text": [
      "   year       city  iso         country   region olympic_type  population  \\\n",
      "0  1992  Barcelona  ALB         Albania   Europe       summer   3247039.0   \n",
      "1  1992  Barcelona  DZA         Algeria   Africa       summer  27181094.0   \n",
      "2  1992  Barcelona  ASM  American Samoa  Oceania       summer     49593.0   \n",
      "3  1992  Barcelona  AND         Andorra   Europe       summer     58888.0   \n",
      "4  1992  Barcelona  AGO          Angola   Africa       summer  12968345.0   \n",
      "\n",
      "   GDP_constant_2010_USD  land_area_km_sq notes  population_%     GDP_%  \\\n",
      "0           4.183027e+09            27400   NaN      0.000614  0.000110   \n",
      "1           9.252182e+10          2381740   NaN      0.005142  0.002430   \n",
      "2           3.762957e+08              200   NaN      0.000009  0.000010   \n",
      "3           2.018601e+09              470   NaN      0.000011  0.000053   \n",
      "4           2.945149e+10          1246700   NaN      0.002453  0.000773   \n",
      "\n",
      "   land_area_%  \n",
      "0     0.000248  \n",
      "1     0.021531  \n",
      "2     0.000002  \n",
      "3     0.000004  \n",
      "4     0.011270  \n",
      "  Country Name Country Code  \\\n",
      "0  Afghanistan          AFG   \n",
      "1  Afghanistan          AFG   \n",
      "2  Afghanistan          AFG   \n",
      "3  Afghanistan          AFG   \n",
      "4  Afghanistan          AFG   \n",
      "\n",
      "                                         Series Name       Series Code  \\\n",
      "0                    Control of Corruption: Estimate            CC.EST   \n",
      "1           Control of Corruption: Number of Sources         CC.NO.SRC   \n",
      "2             Control of Corruption: Percentile Rank        CC.PER.RNK   \n",
      "3  Control of Corruption: Percentile Rank, Lower ...  CC.PER.RNK.LOWER   \n",
      "4  Control of Corruption: Percentile Rank, Upper ...  CC.PER.RNK.UPPER   \n",
      "\n",
      "   1996 [YR1996]  2000 [YR2000]  2004 [YR2004]  2008 [YR2008]  2012 [YR2012]  \\\n",
      "0      -1.291705      -1.271724      -1.350647      -1.672096      -1.430373   \n",
      "1       2.000000       2.000000       5.000000       7.000000      10.000000   \n",
      "2       4.301075       4.787234       6.403941       0.485437       1.421801   \n",
      "3       0.000000       0.000000       0.000000       0.000000       0.000000   \n",
      "4      27.419355      30.851065      15.270936       4.368932      11.848341   \n",
      "\n",
      "   2016 [YR2016]  2020 [YR2020]  \n",
      "0      -1.534049      -1.480538  \n",
      "1      10.000000       9.000000  \n",
      "2       3.846154       4.807693  \n",
      "3       0.000000       0.000000  \n",
      "4       9.615385      10.576923  \n",
      "   year       city discipline          sport_group ioc_code iso_code  \\\n",
      "0  1992  Barcelona     Diving  Swimming and Diving      CHN      CHN   \n",
      "1  1992  Barcelona     Diving  Swimming and Diving      USA      USA   \n",
      "2  1992  Barcelona     Diving  Swimming and Diving      EUN      EUN   \n",
      "3  1992  Barcelona     Diving  Swimming and Diving      GER      DEU   \n",
      "4  1992  Barcelona   Swimming  Swimming and Diving      USA      USA   \n",
      "\n",
      "        country    region event_sex participant_type            event   medal  \\\n",
      "0         China      Asia       Men           Single     10M Platform  Bronze   \n",
      "1           USA  Americas     Women           Single     10M Platform  Bronze   \n",
      "2  Unified Team  noregion       Men           Single   3M Springboard  Bronze   \n",
      "3       Germany    Europe     Women           Single   3M Springboard  Bronze   \n",
      "4           USA  Americas       Men           Single  100M Backstroke  Bronze   \n",
      "\n",
      "  olympic_type  \n",
      "0       summer  \n",
      "1       summer  \n",
      "2       summer  \n",
      "3       summer  \n",
      "4       summer  \n"
     ]
    }
   ],
   "source": [
    "#con = duckdb.connect(database='/content/drive/MyDrive/projecteADSDB/explotation/explotation.duckdb', read_only=False)\n",
    "\n",
    "con = duckdb.connect(database='./explotation/explotation.duckdb', read_only=False)\n",
    "\n",
    "for table in namelist:\n",
    "  df = dftable[table]\n",
    "  con.execute(f\"DROP TABLE IF EXISTS {table}\")\n",
    "  con.execute(f\"CREATE TABLE IF NOT EXISTS {table} AS SELECT * FROM df\")\n",
    "  print(df.head())\n"
   ]
  },
  {
   "cell_type": "code",
   "execution_count": 6,
   "id": "3385ddd7",
   "metadata": {
    "colab": {
     "base_uri": "https://localhost:8080/"
    },
    "execution": {
     "iopub.execute_input": "2022-10-24T22:33:41.476895Z",
     "iopub.status.busy": "2022-10-24T22:33:41.476313Z",
     "iopub.status.idle": "2022-10-24T22:33:41.491552Z",
     "shell.execute_reply": "2022-10-24T22:33:41.492033Z"
    },
    "executionInfo": {
     "elapsed": 242,
     "status": "ok",
     "timestamp": 1666451063365,
     "user": {
      "displayName": "Achraf Hmimou",
      "userId": "16128354855213705162"
     },
     "user_tz": -120
    },
    "id": "kKt-qVnUPrZn",
    "outputId": "ab90d58c-4809-4e6b-d391-928b4f78e289",
    "papermill": {
     "duration": 0.025891,
     "end_time": "2022-10-24T22:33:41.492205",
     "exception": false,
     "start_time": "2022-10-24T22:33:41.466314",
     "status": "completed"
    },
    "tags": []
   },
   "outputs": [
    {
     "data": {
      "text/plain": [
       "[('Country_Level_Data',), ('Governance_Data',), ('Olympics_Data',)]"
      ]
     },
     "execution_count": 6,
     "metadata": {},
     "output_type": "execute_result"
    }
   ],
   "source": [
    "con.execute(\"SHOW TABLES\").fetchall()"
   ]
  },
  {
   "cell_type": "markdown",
   "id": "21d76508",
   "metadata": {
    "id": "cZenqHcnFVIg",
    "papermill": {
     "duration": 0.007375,
     "end_time": "2022-10-24T22:33:41.507080",
     "exception": false,
     "start_time": "2022-10-24T22:33:41.499705",
     "status": "completed"
    },
    "tags": []
   },
   "source": [
    "close explotation connection"
   ]
  },
  {
   "cell_type": "code",
   "execution_count": 7,
   "id": "2ef93a2b",
   "metadata": {
    "execution": {
     "iopub.execute_input": "2022-10-24T22:33:41.555080Z",
     "iopub.status.busy": "2022-10-24T22:33:41.554416Z",
     "iopub.status.idle": "2022-10-24T22:33:41.556012Z",
     "shell.execute_reply": "2022-10-24T22:33:41.556579Z"
    },
    "executionInfo": {
     "elapsed": 298,
     "status": "ok",
     "timestamp": 1666451066698,
     "user": {
      "displayName": "Achraf Hmimou",
      "userId": "16128354855213705162"
     },
     "user_tz": -120
    },
    "id": "sgf10CU8QPzV",
    "papermill": {
     "duration": 0.042188,
     "end_time": "2022-10-24T22:33:41.556752",
     "exception": false,
     "start_time": "2022-10-24T22:33:41.514564",
     "status": "completed"
    },
    "tags": []
   },
   "outputs": [],
   "source": [
    "con.close()"
   ]
  }
 ],
 "metadata": {
  "colab": {
   "collapsed_sections": [],
   "provenance": []
  },
  "kernelspec": {
   "display_name": "Python 3",
   "name": "python3"
  },
  "language_info": {
   "codemirror_mode": {
    "name": "ipython",
    "version": 3
   },
   "file_extension": ".py",
   "mimetype": "text/x-python",
   "name": "python",
   "nbconvert_exporter": "python",
   "pygments_lexer": "ipython3",
   "version": "3.9.4"
  },
  "papermill": {
   "default_parameters": {},
   "duration": 4.393836,
   "end_time": "2022-10-24T22:33:41.871723",
   "environment_variables": {},
   "exception": null,
   "input_path": "./explotation/explotation.ipynb",
   "output_path": "./out/explotation_out.ipynb",
   "parameters": {},
   "start_time": "2022-10-24T22:33:37.477887",
   "version": "2.4.0"
  }
 },
 "nbformat": 4,
 "nbformat_minor": 5
}