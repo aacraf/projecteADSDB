{
 "cells": [
  {
   "cell_type": "markdown",
   "id": "4c5b9fee",
   "metadata": {
    "id": "9dT5098AvK-Y",
    "papermill": {
     "duration": 0.014719,
     "end_time": "2022-10-24T22:33:46.729562",
     "exception": false,
     "start_time": "2022-10-24T22:33:46.714843",
     "status": "completed"
    },
    "tags": []
   },
   "source": [
    "# EXPLOTATION ZONE\n",
    "\n",
    "1. Load data\n",
    "2. Integrate data\n",
    "3. Perform concrete data quality "
   ]
  },
  {
   "cell_type": "markdown",
   "id": "50a14058",
   "metadata": {
    "id": "pkYoPrcgwRoU",
    "papermill": {
     "duration": 0.008809,
     "end_time": "2022-10-24T22:33:46.748383",
     "exception": false,
     "start_time": "2022-10-24T22:33:46.739574",
     "status": "completed"
    },
    "tags": []
   },
   "source": [
    "## 1. Load data from trusted zone\n"
   ]
  },
  {
   "cell_type": "code",
   "execution_count": 1,
   "id": "e02aa30a",
   "metadata": {
    "colab": {
     "base_uri": "https://localhost:8080/"
    },
    "execution": {
     "iopub.execute_input": "2022-10-24T22:33:46.772049Z",
     "iopub.status.busy": "2022-10-24T22:33:46.771357Z",
     "iopub.status.idle": "2022-10-24T22:33:48.999652Z",
     "shell.execute_reply": "2022-10-24T22:33:49.000161Z"
    },
    "executionInfo": {
     "elapsed": 8519,
     "status": "ok",
     "timestamp": 1666341260021,
     "user": {
      "displayName": "Aniol Bisquert Parés",
      "userId": "04084732713030354956"
     },
     "user_tz": -120
    },
    "id": "r_zl2xWGvPs1",
    "outputId": "9a064a8a-f0c1-40dc-c828-b0cd29cee490",
    "papermill": {
     "duration": 2.244452,
     "end_time": "2022-10-24T22:33:49.000397",
     "exception": false,
     "start_time": "2022-10-24T22:33:46.755945",
     "status": "completed"
    },
    "tags": []
   },
   "outputs": [
    {
     "name": "stdout",
     "output_type": "stream",
     "text": [
      "Requirement already satisfied: duckdb in /Library/Frameworks/Python.framework/Versions/3.9/lib/python3.9/site-packages (0.5.1)\r\n",
      "Requirement already satisfied: numpy>=1.14 in /Library/Frameworks/Python.framework/Versions/3.9/lib/python3.9/site-packages (from duckdb) (1.20.2)\r\n"
     ]
    },
    {
     "name": "stdout",
     "output_type": "stream",
     "text": [
      "\u001b[33mWARNING: You are using pip version 21.1.1; however, version 22.3 is available.\r\n",
      "You should consider upgrading via the '/Library/Frameworks/Python.framework/Versions/3.9/bin/python3.9 -m pip install --upgrade pip' command.\u001b[0m\r\n"
     ]
    }
   ],
   "source": [
    "!pip install duckdb\n",
    "\n",
    "import duckdb\n",
    "import pandas as pd"
   ]
  },
  {
   "cell_type": "code",
   "execution_count": 2,
   "id": "c4107367",
   "metadata": {
    "colab": {
     "base_uri": "https://localhost:8080/"
    },
    "execution": {
     "iopub.execute_input": "2022-10-24T22:33:49.021600Z",
     "iopub.status.busy": "2022-10-24T22:33:49.020957Z",
     "iopub.status.idle": "2022-10-24T22:33:49.023434Z",
     "shell.execute_reply": "2022-10-24T22:33:49.024239Z"
    },
    "executionInfo": {
     "elapsed": 22268,
     "status": "ok",
     "timestamp": 1666341285522,
     "user": {
      "displayName": "Aniol Bisquert Parés",
      "userId": "04084732713030354956"
     },
     "user_tz": -120
    },
    "id": "Uo6cITM4rNtu",
    "outputId": "53b4604a-c88a-4145-d208-e31befdbcf12",
    "papermill": {
     "duration": 0.015516,
     "end_time": "2022-10-24T22:33:49.024464",
     "exception": false,
     "start_time": "2022-10-24T22:33:49.008948",
     "status": "completed"
    },
    "tags": []
   },
   "outputs": [],
   "source": [
    "#from google.colab import drive\n",
    "#drive.mount('/content/drive')"
   ]
  },
  {
   "cell_type": "code",
   "execution_count": 3,
   "id": "002f7ad2",
   "metadata": {
    "execution": {
     "iopub.execute_input": "2022-10-24T22:33:49.054190Z",
     "iopub.status.busy": "2022-10-24T22:33:49.053532Z",
     "iopub.status.idle": "2022-10-24T22:33:49.115871Z",
     "shell.execute_reply": "2022-10-24T22:33:49.116350Z"
    },
    "id": "UXbnuM0ow4pU",
    "papermill": {
     "duration": 0.082995,
     "end_time": "2022-10-24T22:33:49.116554",
     "exception": false,
     "start_time": "2022-10-24T22:33:49.033559",
     "status": "completed"
    },
    "tags": []
   },
   "outputs": [],
   "source": [
    "#con = duckdb.connect(database='/content/drive/MyDrive/projecteADSDB/explotation/explotation.duckdb', read_only=False)\n",
    "\n",
    "con = duckdb.connect(database='./explotation/explotation.duckdb', read_only=False)\n",
    "\n",
    "\n",
    "df_governance = pd.read_sql(\"SELECT * FROM Governance_Data\", con)\n",
    "df_olympics = pd.read_sql(\"SELECT * FROM Olympics_Data\", con)\n",
    "df_countrylevel = pd.read_sql(\"SELECT * FROM Country_Level_Data\", con)"
   ]
  },
  {
   "cell_type": "code",
   "execution_count": 4,
   "id": "53eb48c9",
   "metadata": {
    "colab": {
     "base_uri": "https://localhost:8080/",
     "height": 337
    },
    "execution": {
     "iopub.execute_input": "2022-10-24T22:33:49.141809Z",
     "iopub.status.busy": "2022-10-24T22:33:49.141197Z",
     "iopub.status.idle": "2022-10-24T22:33:49.151498Z",
     "shell.execute_reply": "2022-10-24T22:33:49.152108Z"
    },
    "executionInfo": {
     "elapsed": 10,
     "status": "ok",
     "timestamp": 1666341339088,
     "user": {
      "displayName": "Aniol Bisquert Parés",
      "userId": "04084732713030354956"
     },
     "user_tz": -120
    },
    "id": "y87Iv5Sp8_fE",
    "outputId": "24f9d608-eef9-4fd0-d087-1de16dc358e9",
    "papermill": {
     "duration": 0.027096,
     "end_time": "2022-10-24T22:33:49.152286",
     "exception": false,
     "start_time": "2022-10-24T22:33:49.125190",
     "status": "completed"
    },
    "tags": []
   },
   "outputs": [
    {
     "data": {
      "text/html": [
       "<div>\n",
       "<style scoped>\n",
       "    .dataframe tbody tr th:only-of-type {\n",
       "        vertical-align: middle;\n",
       "    }\n",
       "\n",
       "    .dataframe tbody tr th {\n",
       "        vertical-align: top;\n",
       "    }\n",
       "\n",
       "    .dataframe thead th {\n",
       "        text-align: right;\n",
       "    }\n",
       "</style>\n",
       "<table border=\"1\" class=\"dataframe\">\n",
       "  <thead>\n",
       "    <tr style=\"text-align: right;\">\n",
       "      <th></th>\n",
       "      <th>Country Code</th>\n",
       "      <th>year</th>\n",
       "      <th>CC</th>\n",
       "      <th>G</th>\n",
       "      <th>PV</th>\n",
       "      <th>RL</th>\n",
       "      <th>RQ</th>\n",
       "      <th>VA</th>\n",
       "    </tr>\n",
       "  </thead>\n",
       "  <tbody>\n",
       "    <tr>\n",
       "      <th>0</th>\n",
       "      <td>AFG</td>\n",
       "      <td>1996</td>\n",
       "      <td>-1.291705</td>\n",
       "      <td>-2.175167</td>\n",
       "      <td>-2.417310</td>\n",
       "      <td>-1.788075</td>\n",
       "      <td>-2.090330</td>\n",
       "      <td>-1.908540</td>\n",
       "    </tr>\n",
       "    <tr>\n",
       "      <th>1</th>\n",
       "      <td>AFG</td>\n",
       "      <td>2000</td>\n",
       "      <td>-2.175167</td>\n",
       "      <td>-2.417310</td>\n",
       "      <td>-1.788075</td>\n",
       "      <td>-2.090330</td>\n",
       "      <td>-1.908540</td>\n",
       "      <td>-1.271724</td>\n",
       "    </tr>\n",
       "    <tr>\n",
       "      <th>2</th>\n",
       "      <td>AFG</td>\n",
       "      <td>2004</td>\n",
       "      <td>-2.417310</td>\n",
       "      <td>-1.788075</td>\n",
       "      <td>-2.090330</td>\n",
       "      <td>-1.908540</td>\n",
       "      <td>-1.271724</td>\n",
       "      <td>-2.173946</td>\n",
       "    </tr>\n",
       "    <tr>\n",
       "      <th>3</th>\n",
       "      <td>AFG</td>\n",
       "      <td>2008</td>\n",
       "      <td>-1.788075</td>\n",
       "      <td>-2.090330</td>\n",
       "      <td>-1.908540</td>\n",
       "      <td>-1.271724</td>\n",
       "      <td>-2.173946</td>\n",
       "      <td>-2.438969</td>\n",
       "    </tr>\n",
       "    <tr>\n",
       "      <th>4</th>\n",
       "      <td>AFG</td>\n",
       "      <td>2012</td>\n",
       "      <td>-2.090330</td>\n",
       "      <td>-1.908540</td>\n",
       "      <td>-1.271724</td>\n",
       "      <td>-2.173946</td>\n",
       "      <td>-2.438969</td>\n",
       "      <td>-1.780661</td>\n",
       "    </tr>\n",
       "  </tbody>\n",
       "</table>\n",
       "</div>"
      ],
      "text/plain": [
       "  Country Code  year        CC         G        PV        RL        RQ  \\\n",
       "0          AFG  1996 -1.291705 -2.175167 -2.417310 -1.788075 -2.090330   \n",
       "1          AFG  2000 -2.175167 -2.417310 -1.788075 -2.090330 -1.908540   \n",
       "2          AFG  2004 -2.417310 -1.788075 -2.090330 -1.908540 -1.271724   \n",
       "3          AFG  2008 -1.788075 -2.090330 -1.908540 -1.271724 -2.173946   \n",
       "4          AFG  2012 -2.090330 -1.908540 -1.271724 -2.173946 -2.438969   \n",
       "\n",
       "         VA  \n",
       "0 -1.908540  \n",
       "1 -1.271724  \n",
       "2 -2.173946  \n",
       "3 -2.438969  \n",
       "4 -1.780661  "
      ]
     },
     "execution_count": 4,
     "metadata": {},
     "output_type": "execute_result"
    }
   ],
   "source": [
    "df_governance.head()"
   ]
  },
  {
   "cell_type": "code",
   "execution_count": 5,
   "id": "161c920d",
   "metadata": {
    "colab": {
     "base_uri": "https://localhost:8080/",
     "height": 206
    },
    "execution": {
     "iopub.execute_input": "2022-10-24T22:33:49.180606Z",
     "iopub.status.busy": "2022-10-24T22:33:49.179918Z",
     "iopub.status.idle": "2022-10-24T22:33:49.182437Z",
     "shell.execute_reply": "2022-10-24T22:33:49.182845Z"
    },
    "executionInfo": {
     "elapsed": 356,
     "status": "ok",
     "timestamp": 1666341343093,
     "user": {
      "displayName": "Aniol Bisquert Parés",
      "userId": "04084732713030354956"
     },
     "user_tz": -120
    },
    "id": "CaDe4FPs-Dbt",
    "outputId": "67da29f0-8635-41fe-9b8f-57d657329822",
    "papermill": {
     "duration": 0.022375,
     "end_time": "2022-10-24T22:33:49.183023",
     "exception": false,
     "start_time": "2022-10-24T22:33:49.160648",
     "status": "completed"
    },
    "tags": []
   },
   "outputs": [
    {
     "data": {
      "text/html": [
       "<div>\n",
       "<style scoped>\n",
       "    .dataframe tbody tr th:only-of-type {\n",
       "        vertical-align: middle;\n",
       "    }\n",
       "\n",
       "    .dataframe tbody tr th {\n",
       "        vertical-align: top;\n",
       "    }\n",
       "\n",
       "    .dataframe thead th {\n",
       "        text-align: right;\n",
       "    }\n",
       "</style>\n",
       "<table border=\"1\" class=\"dataframe\">\n",
       "  <thead>\n",
       "    <tr style=\"text-align: right;\">\n",
       "      <th></th>\n",
       "      <th>year</th>\n",
       "      <th>city</th>\n",
       "      <th>discipline</th>\n",
       "      <th>sport_group</th>\n",
       "      <th>ioc_code</th>\n",
       "      <th>iso_code</th>\n",
       "      <th>country</th>\n",
       "      <th>region</th>\n",
       "      <th>event_sex</th>\n",
       "      <th>participant_type</th>\n",
       "      <th>event</th>\n",
       "      <th>medal</th>\n",
       "      <th>olympic_type</th>\n",
       "    </tr>\n",
       "  </thead>\n",
       "  <tbody>\n",
       "    <tr>\n",
       "      <th>0</th>\n",
       "      <td>1992</td>\n",
       "      <td>Barcelona</td>\n",
       "      <td>Diving</td>\n",
       "      <td>Swimming and Diving</td>\n",
       "      <td>CHN</td>\n",
       "      <td>CHN</td>\n",
       "      <td>China</td>\n",
       "      <td>Asia</td>\n",
       "      <td>Men</td>\n",
       "      <td>Single</td>\n",
       "      <td>10M Platform</td>\n",
       "      <td>Bronze</td>\n",
       "      <td>summer</td>\n",
       "    </tr>\n",
       "    <tr>\n",
       "      <th>1</th>\n",
       "      <td>1992</td>\n",
       "      <td>Barcelona</td>\n",
       "      <td>Diving</td>\n",
       "      <td>Swimming and Diving</td>\n",
       "      <td>USA</td>\n",
       "      <td>USA</td>\n",
       "      <td>USA</td>\n",
       "      <td>Americas</td>\n",
       "      <td>Women</td>\n",
       "      <td>Single</td>\n",
       "      <td>10M Platform</td>\n",
       "      <td>Bronze</td>\n",
       "      <td>summer</td>\n",
       "    </tr>\n",
       "    <tr>\n",
       "      <th>2</th>\n",
       "      <td>1992</td>\n",
       "      <td>Barcelona</td>\n",
       "      <td>Diving</td>\n",
       "      <td>Swimming and Diving</td>\n",
       "      <td>EUN</td>\n",
       "      <td>EUN</td>\n",
       "      <td>Unified Team</td>\n",
       "      <td>noregion</td>\n",
       "      <td>Men</td>\n",
       "      <td>Single</td>\n",
       "      <td>3M Springboard</td>\n",
       "      <td>Bronze</td>\n",
       "      <td>summer</td>\n",
       "    </tr>\n",
       "    <tr>\n",
       "      <th>3</th>\n",
       "      <td>1992</td>\n",
       "      <td>Barcelona</td>\n",
       "      <td>Diving</td>\n",
       "      <td>Swimming and Diving</td>\n",
       "      <td>GER</td>\n",
       "      <td>DEU</td>\n",
       "      <td>Germany</td>\n",
       "      <td>Europe</td>\n",
       "      <td>Women</td>\n",
       "      <td>Single</td>\n",
       "      <td>3M Springboard</td>\n",
       "      <td>Bronze</td>\n",
       "      <td>summer</td>\n",
       "    </tr>\n",
       "    <tr>\n",
       "      <th>4</th>\n",
       "      <td>1992</td>\n",
       "      <td>Barcelona</td>\n",
       "      <td>Swimming</td>\n",
       "      <td>Swimming and Diving</td>\n",
       "      <td>USA</td>\n",
       "      <td>USA</td>\n",
       "      <td>USA</td>\n",
       "      <td>Americas</td>\n",
       "      <td>Men</td>\n",
       "      <td>Single</td>\n",
       "      <td>100M Backstroke</td>\n",
       "      <td>Bronze</td>\n",
       "      <td>summer</td>\n",
       "    </tr>\n",
       "  </tbody>\n",
       "</table>\n",
       "</div>"
      ],
      "text/plain": [
       "   year       city discipline          sport_group ioc_code iso_code  \\\n",
       "0  1992  Barcelona     Diving  Swimming and Diving      CHN      CHN   \n",
       "1  1992  Barcelona     Diving  Swimming and Diving      USA      USA   \n",
       "2  1992  Barcelona     Diving  Swimming and Diving      EUN      EUN   \n",
       "3  1992  Barcelona     Diving  Swimming and Diving      GER      DEU   \n",
       "4  1992  Barcelona   Swimming  Swimming and Diving      USA      USA   \n",
       "\n",
       "        country    region event_sex participant_type            event   medal  \\\n",
       "0         China      Asia       Men           Single     10M Platform  Bronze   \n",
       "1           USA  Americas     Women           Single     10M Platform  Bronze   \n",
       "2  Unified Team  noregion       Men           Single   3M Springboard  Bronze   \n",
       "3       Germany    Europe     Women           Single   3M Springboard  Bronze   \n",
       "4           USA  Americas       Men           Single  100M Backstroke  Bronze   \n",
       "\n",
       "  olympic_type  \n",
       "0       summer  \n",
       "1       summer  \n",
       "2       summer  \n",
       "3       summer  \n",
       "4       summer  "
      ]
     },
     "execution_count": 5,
     "metadata": {},
     "output_type": "execute_result"
    }
   ],
   "source": [
    "df_olympics.head()"
   ]
  },
  {
   "cell_type": "code",
   "execution_count": 6,
   "id": "880a83ab",
   "metadata": {
    "colab": {
     "base_uri": "https://localhost:8080/",
     "height": 206
    },
    "execution": {
     "iopub.execute_input": "2022-10-24T22:33:49.212940Z",
     "iopub.status.busy": "2022-10-24T22:33:49.212279Z",
     "iopub.status.idle": "2022-10-24T22:33:49.214636Z",
     "shell.execute_reply": "2022-10-24T22:33:49.215115Z"
    },
    "executionInfo": {
     "elapsed": 6,
     "status": "ok",
     "timestamp": 1666341345373,
     "user": {
      "displayName": "Aniol Bisquert Parés",
      "userId": "04084732713030354956"
     },
     "user_tz": -120
    },
    "id": "ZWY2hPJj_1hB",
    "outputId": "95aa3e3b-5917-41a9-b0bf-1536448c866d",
    "papermill": {
     "duration": 0.023589,
     "end_time": "2022-10-24T22:33:49.215342",
     "exception": false,
     "start_time": "2022-10-24T22:33:49.191753",
     "status": "completed"
    },
    "tags": []
   },
   "outputs": [
    {
     "data": {
      "text/html": [
       "<div>\n",
       "<style scoped>\n",
       "    .dataframe tbody tr th:only-of-type {\n",
       "        vertical-align: middle;\n",
       "    }\n",
       "\n",
       "    .dataframe tbody tr th {\n",
       "        vertical-align: top;\n",
       "    }\n",
       "\n",
       "    .dataframe thead th {\n",
       "        text-align: right;\n",
       "    }\n",
       "</style>\n",
       "<table border=\"1\" class=\"dataframe\">\n",
       "  <thead>\n",
       "    <tr style=\"text-align: right;\">\n",
       "      <th></th>\n",
       "      <th>year</th>\n",
       "      <th>city</th>\n",
       "      <th>iso</th>\n",
       "      <th>country</th>\n",
       "      <th>region</th>\n",
       "      <th>olympic_type</th>\n",
       "      <th>population</th>\n",
       "      <th>GDP_constant_2010_USD</th>\n",
       "      <th>land_area_km_sq</th>\n",
       "      <th>notes</th>\n",
       "      <th>population_%</th>\n",
       "      <th>GDP_%</th>\n",
       "      <th>land_area_%</th>\n",
       "    </tr>\n",
       "  </thead>\n",
       "  <tbody>\n",
       "    <tr>\n",
       "      <th>0</th>\n",
       "      <td>1992</td>\n",
       "      <td>Barcelona</td>\n",
       "      <td>ALB</td>\n",
       "      <td>Albania</td>\n",
       "      <td>Europe</td>\n",
       "      <td>summer</td>\n",
       "      <td>3247039.0</td>\n",
       "      <td>4.183027e+09</td>\n",
       "      <td>27400</td>\n",
       "      <td>None</td>\n",
       "      <td>0.000614</td>\n",
       "      <td>0.000110</td>\n",
       "      <td>0.000248</td>\n",
       "    </tr>\n",
       "    <tr>\n",
       "      <th>1</th>\n",
       "      <td>1992</td>\n",
       "      <td>Barcelona</td>\n",
       "      <td>DZA</td>\n",
       "      <td>Algeria</td>\n",
       "      <td>Africa</td>\n",
       "      <td>summer</td>\n",
       "      <td>27181094.0</td>\n",
       "      <td>9.252182e+10</td>\n",
       "      <td>2381740</td>\n",
       "      <td>None</td>\n",
       "      <td>0.005142</td>\n",
       "      <td>0.002430</td>\n",
       "      <td>0.021531</td>\n",
       "    </tr>\n",
       "    <tr>\n",
       "      <th>2</th>\n",
       "      <td>1992</td>\n",
       "      <td>Barcelona</td>\n",
       "      <td>ASM</td>\n",
       "      <td>American Samoa</td>\n",
       "      <td>Oceania</td>\n",
       "      <td>summer</td>\n",
       "      <td>49593.0</td>\n",
       "      <td>3.762957e+08</td>\n",
       "      <td>200</td>\n",
       "      <td>None</td>\n",
       "      <td>0.000009</td>\n",
       "      <td>0.000010</td>\n",
       "      <td>0.000002</td>\n",
       "    </tr>\n",
       "    <tr>\n",
       "      <th>3</th>\n",
       "      <td>1992</td>\n",
       "      <td>Barcelona</td>\n",
       "      <td>AND</td>\n",
       "      <td>Andorra</td>\n",
       "      <td>Europe</td>\n",
       "      <td>summer</td>\n",
       "      <td>58888.0</td>\n",
       "      <td>2.018601e+09</td>\n",
       "      <td>470</td>\n",
       "      <td>None</td>\n",
       "      <td>0.000011</td>\n",
       "      <td>0.000053</td>\n",
       "      <td>0.000004</td>\n",
       "    </tr>\n",
       "    <tr>\n",
       "      <th>4</th>\n",
       "      <td>1992</td>\n",
       "      <td>Barcelona</td>\n",
       "      <td>AGO</td>\n",
       "      <td>Angola</td>\n",
       "      <td>Africa</td>\n",
       "      <td>summer</td>\n",
       "      <td>12968345.0</td>\n",
       "      <td>2.945149e+10</td>\n",
       "      <td>1246700</td>\n",
       "      <td>None</td>\n",
       "      <td>0.002453</td>\n",
       "      <td>0.000773</td>\n",
       "      <td>0.011270</td>\n",
       "    </tr>\n",
       "  </tbody>\n",
       "</table>\n",
       "</div>"
      ],
      "text/plain": [
       "   year       city  iso         country   region olympic_type  population  \\\n",
       "0  1992  Barcelona  ALB         Albania   Europe       summer   3247039.0   \n",
       "1  1992  Barcelona  DZA         Algeria   Africa       summer  27181094.0   \n",
       "2  1992  Barcelona  ASM  American Samoa  Oceania       summer     49593.0   \n",
       "3  1992  Barcelona  AND         Andorra   Europe       summer     58888.0   \n",
       "4  1992  Barcelona  AGO          Angola   Africa       summer  12968345.0   \n",
       "\n",
       "   GDP_constant_2010_USD  land_area_km_sq notes  population_%     GDP_%  \\\n",
       "0           4.183027e+09            27400  None      0.000614  0.000110   \n",
       "1           9.252182e+10          2381740  None      0.005142  0.002430   \n",
       "2           3.762957e+08              200  None      0.000009  0.000010   \n",
       "3           2.018601e+09              470  None      0.000011  0.000053   \n",
       "4           2.945149e+10          1246700  None      0.002453  0.000773   \n",
       "\n",
       "   land_area_%  \n",
       "0     0.000248  \n",
       "1     0.021531  \n",
       "2     0.000002  \n",
       "3     0.000004  \n",
       "4     0.011270  "
      ]
     },
     "execution_count": 6,
     "metadata": {},
     "output_type": "execute_result"
    }
   ],
   "source": [
    "df_countrylevel.head()"
   ]
  },
  {
   "cell_type": "markdown",
   "id": "12836343",
   "metadata": {
    "id": "m6_Yd1QqKJPs",
    "papermill": {
     "duration": 0.010235,
     "end_time": "2022-10-24T22:33:49.235493",
     "exception": false,
     "start_time": "2022-10-24T22:33:49.225258",
     "status": "completed"
    },
    "tags": []
   },
   "source": [
    "## 2.2. Integrate with data governance\n"
   ]
  },
  {
   "cell_type": "markdown",
   "id": "48a2cdf1",
   "metadata": {
    "id": "PhBgi07jS-7a",
    "papermill": {
     "duration": 0.010124,
     "end_time": "2022-10-24T22:33:49.255416",
     "exception": false,
     "start_time": "2022-10-24T22:33:49.245292",
     "status": "completed"
    },
    "tags": []
   },
   "source": [
    "## 2.2.2. integrate dataframes"
   ]
  },
  {
   "cell_type": "code",
   "execution_count": 7,
   "id": "7d955d7b",
   "metadata": {
    "execution": {
     "iopub.execute_input": "2022-10-24T22:33:49.283642Z",
     "iopub.status.busy": "2022-10-24T22:33:49.283051Z",
     "iopub.status.idle": "2022-10-24T22:33:49.290161Z",
     "shell.execute_reply": "2022-10-24T22:33:49.290573Z"
    },
    "id": "Z9fYb9R7NPnk",
    "papermill": {
     "duration": 0.025223,
     "end_time": "2022-10-24T22:33:49.290751",
     "exception": false,
     "start_time": "2022-10-24T22:33:49.265528",
     "status": "completed"
    },
    "tags": []
   },
   "outputs": [],
   "source": [
    "df_countrylevel['year'] = df_countrylevel['year'].astype(int)\n",
    "df_governance['year'] = df_governance['year'].astype(int)\n",
    "\n",
    "data = pd.merge(df_countrylevel, df_governance, left_on=['year', 'iso'], right_on=['year', 'Country Code'])\n",
    "data.drop(columns=['Country Code'], inplace=True)"
   ]
  },
  {
   "cell_type": "code",
   "execution_count": 8,
   "id": "51800447",
   "metadata": {
    "colab": {
     "base_uri": "https://localhost:8080/",
     "height": 488
    },
    "execution": {
     "iopub.execute_input": "2022-10-24T22:33:49.315988Z",
     "iopub.status.busy": "2022-10-24T22:33:49.315373Z",
     "iopub.status.idle": "2022-10-24T22:33:49.317172Z",
     "shell.execute_reply": "2022-10-24T22:33:49.317652Z"
    },
    "executionInfo": {
     "elapsed": 397,
     "status": "ok",
     "timestamp": 1666341359432,
     "user": {
      "displayName": "Aniol Bisquert Parés",
      "userId": "04084732713030354956"
     },
     "user_tz": -120
    },
    "id": "XRIWZ7E7UsrR",
    "outputId": "8329c518-7dc8-488b-9b3d-94b382f596c1",
    "papermill": {
     "duration": 0.017227,
     "end_time": "2022-10-24T22:33:49.317826",
     "exception": false,
     "start_time": "2022-10-24T22:33:49.300599",
     "status": "completed"
    },
    "tags": []
   },
   "outputs": [],
   "source": [
    "data.drop(columns=['notes', 'population_%', 'GDP_%', 'land_area_%'], inplace=True)"
   ]
  },
  {
   "cell_type": "markdown",
   "id": "971627e4",
   "metadata": {
    "id": "u-QqkNpQFjf9",
    "papermill": {
     "duration": 0.010106,
     "end_time": "2022-10-24T22:33:49.338372",
     "exception": false,
     "start_time": "2022-10-24T22:33:49.328266",
     "status": "completed"
    },
    "tags": []
   },
   "source": [
    "# Store data"
   ]
  },
  {
   "cell_type": "code",
   "execution_count": 9,
   "id": "5788585a",
   "metadata": {
    "colab": {
     "base_uri": "https://localhost:8080/"
    },
    "execution": {
     "iopub.execute_input": "2022-10-24T22:33:49.365283Z",
     "iopub.status.busy": "2022-10-24T22:33:49.364600Z",
     "iopub.status.idle": "2022-10-24T22:33:49.415423Z",
     "shell.execute_reply": "2022-10-24T22:33:49.416020Z"
    },
    "executionInfo": {
     "elapsed": 367,
     "status": "ok",
     "timestamp": 1666341438147,
     "user": {
      "displayName": "Aniol Bisquert Parés",
      "userId": "04084732713030354956"
     },
     "user_tz": -120
    },
    "id": "BUcadzyHFzZw",
    "outputId": "b1bfe553-06b1-4fa6-84f6-b0a08429a327",
    "papermill": {
     "duration": 0.067271,
     "end_time": "2022-10-24T22:33:49.416251",
     "exception": false,
     "start_time": "2022-10-24T22:33:49.348980",
     "status": "completed"
    },
    "tags": []
   },
   "outputs": [
    {
     "data": {
      "text/plain": [
       "[('Country_Data',), ('Olympics_Data',)]"
      ]
     },
     "execution_count": 9,
     "metadata": {},
     "output_type": "execute_result"
    }
   ],
   "source": [
    "con.execute(\"DROP TABLE IF EXISTS Governance_Data;\")\n",
    "con.execute(\"DROP TABLE IF EXISTS Olympics_Data;\")\n",
    "con.execute(\"DROP TABLE IF EXISTS Country_Level_Data;\")\n",
    "\n",
    "con.execute(\"DROP TABLE IF EXISTS Olympics_Data;\")\n",
    "con.execute(\"CREATE TABLE IF NOT EXISTS Olympics_Data AS SELECT * FROM df_olympics\")\n",
    "\n",
    "con.execute(\"DROP TABLE IF EXISTS Country_Data\")\n",
    "con.execute(\"CREATE TABLE IF NOT EXISTS Country_Data AS SELECT * FROM data\")\n",
    "\n",
    "con.execute(\"SHOW TABLES\").fetchall()"
   ]
  },
  {
   "cell_type": "code",
   "execution_count": 10,
   "id": "649e75be",
   "metadata": {
    "execution": {
     "iopub.execute_input": "2022-10-24T22:33:49.460109Z",
     "iopub.status.busy": "2022-10-24T22:33:49.459520Z",
     "iopub.status.idle": "2022-10-24T22:33:49.461469Z",
     "shell.execute_reply": "2022-10-24T22:33:49.461955Z"
    },
    "id": "THGfplsPE7d4",
    "papermill": {
     "duration": 0.035559,
     "end_time": "2022-10-24T22:33:49.462181",
     "exception": false,
     "start_time": "2022-10-24T22:33:49.426622",
     "status": "completed"
    },
    "tags": []
   },
   "outputs": [],
   "source": [
    "con.close()"
   ]
  }
 ],
 "metadata": {
  "colab": {
   "authorship_tag": "ABX9TyPpTGniBp+uxnSoBEvlajxX",
   "collapsed_sections": [],
   "provenance": []
  },
  "kernelspec": {
   "display_name": "Python 3",
   "name": "python3"
  },
  "language_info": {
   "codemirror_mode": {
    "name": "ipython",
    "version": 3
   },
   "file_extension": ".py",
   "mimetype": "text/x-python",
   "name": "python",
   "nbconvert_exporter": "python",
   "pygments_lexer": "ipython3",
   "version": "3.9.4"
  },
  "papermill": {
   "default_parameters": {},
   "duration": 3.972292,
   "end_time": "2022-10-24T22:33:49.782303",
   "environment_variables": {},
   "exception": null,
   "input_path": "./explotation/dataIntegration.ipynb",
   "output_path": "./out/dataIntegration_out.ipynb",
   "parameters": {},
   "start_time": "2022-10-24T22:33:45.810011",
   "version": "2.4.0"
  }
 },
 "nbformat": 4,
 "nbformat_minor": 5
}